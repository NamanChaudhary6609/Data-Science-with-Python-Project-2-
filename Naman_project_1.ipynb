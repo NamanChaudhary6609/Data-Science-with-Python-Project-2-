{
  "nbformat": 4,
  "nbformat_minor": 0,
  "metadata": {
    "colab": {
      "provenance": [],
      "authorship_tag": "ABX9TyMKHK0MaFx/qgJ345Hh20Rd",
      "include_colab_link": true
    },
    "kernelspec": {
      "name": "python3",
      "display_name": "Python 3"
    },
    "language_info": {
      "name": "python"
    }
  },
  "cells": [
    {
      "cell_type": "markdown",
      "metadata": {
        "id": "view-in-github",
        "colab_type": "text"
      },
      "source": [
        "<a href=\"https://colab.research.google.com/github/NamanChaudhary6609/Data-Science-with-Python-Project-2-/blob/master/Naman_project_1.ipynb\" target=\"_parent\"><img src=\"https://colab.research.google.com/assets/colab-badge.svg\" alt=\"Open In Colab\"/></a>"
      ]
    },
    {
      "cell_type": "code",
      "source": [
        "# Imported the library used in the project \n",
        "# Question 1 is to import data set into the lab\n",
        "import numpy as np \n",
        "import pandas as pd\n",
        "import matplotlib.pyplot as plt\n",
        "import seaborn as sns"
      ],
      "metadata": {
        "id": "RS-7w1OLuDRu"
      },
      "execution_count": 3,
      "outputs": []
    },
    {
      "cell_type": "code",
      "source": [
        "# using the interactive shell, Importing it \n",
        "#Question 2 \n",
        "from IPython.core.interactiveshell import InteractiveShell\n",
        "InteractiveShell.ast_node_interactivity =\"all\""
      ],
      "metadata": {
        "id": "gMtskWq6u8J0"
      },
      "execution_count": 4,
      "outputs": []
    },
    {
      "cell_type": "code",
      "source": [
        "# Giving the dataset to the imported file to dataset\n",
        "dataset = pd.read_csv(\"/311_Service_Requests_from_2010_to_Present.csv\")"
      ],
      "metadata": {
        "id": "KjyT3MqXvU1I"
      },
      "execution_count": 8,
      "outputs": []
    },
    {
      "cell_type": "code",
      "source": [
        "# Question 2 is to visualize the data head and tail into the lab \n",
        "pd.options.display.max_columns = None\n",
        "dataset.head(2)"
      ],
      "metadata": {
        "colab": {
          "base_uri": "https://localhost:8080/",
          "height": 350
        },
        "id": "5nP95aJCz22k",
        "outputId": "70432054-4a18-4cba-cde2-511572a56c53"
      },
      "execution_count": 9,
      "outputs": [
        {
          "output_type": "execute_result",
          "data": {
            "text/plain": [
              "   Unique Key            Created Date    Closed Date Agency  \\\n",
              "0    32310363  12/31/2015 11:59:45 PM  01-01-16 0:55   NYPD   \n",
              "1    32309934  12/31/2015 11:59:44 PM  01-01-16 1:26   NYPD   \n",
              "\n",
              "                       Agency Name           Complaint Type        Descriptor  \\\n",
              "0  New York City Police Department  Noise - Street/Sidewalk  Loud Music/Party   \n",
              "1  New York City Police Department         Blocked Driveway         No Access   \n",
              "\n",
              "     Location Type  Incident Zip     Incident Address       Street Name  \\\n",
              "0  Street/Sidewalk       10034.0  71 VERMILYEA AVENUE  VERMILYEA AVENUE   \n",
              "1  Street/Sidewalk       11105.0      27-07 23 AVENUE         23 AVENUE   \n",
              "\n",
              "   Cross Street 1   Cross Street 2 Intersection Street 1  \\\n",
              "0  ACADEMY STREET  WEST 204 STREET                   NaN   \n",
              "1       27 STREET        28 STREET                   NaN   \n",
              "\n",
              "  Intersection Street 2 Address Type      City Landmark Facility Type  Status  \\\n",
              "0                   NaN      ADDRESS  NEW YORK      NaN      Precinct  Closed   \n",
              "1                   NaN      ADDRESS   ASTORIA      NaN      Precinct  Closed   \n",
              "\n",
              "        Due Date                             Resolution Description  \\\n",
              "0  01-01-16 7:59  The Police Department responded and upon arriv...   \n",
              "1  01-01-16 7:59  The Police Department responded to the complai...   \n",
              "\n",
              "  Resolution Action Updated Date Community Board    Borough  \\\n",
              "0                  01-01-16 0:55    12 MANHATTAN  MANHATTAN   \n",
              "1                  01-01-16 1:26       01 QUEENS     QUEENS   \n",
              "\n",
              "   X Coordinate (State Plane)  Y Coordinate (State Plane) Park Facility Name  \\\n",
              "0                   1005409.0                    254678.0        Unspecified   \n",
              "1                   1007766.0                    221986.0        Unspecified   \n",
              "\n",
              "  Park Borough  School Name School Number School Region  School Code  \\\n",
              "0    MANHATTAN  Unspecified   Unspecified   Unspecified  Unspecified   \n",
              "1       QUEENS  Unspecified   Unspecified   Unspecified  Unspecified   \n",
              "\n",
              "  School Phone Number School Address  School City School State   School Zip  \\\n",
              "0         Unspecified    Unspecified  Unspecified  Unspecified  Unspecified   \n",
              "1         Unspecified    Unspecified  Unspecified  Unspecified  Unspecified   \n",
              "\n",
              "  School Not Found  School or Citywide Complaint  Vehicle Type  \\\n",
              "0                N                           NaN           NaN   \n",
              "1                N                           NaN           NaN   \n",
              "\n",
              "   Taxi Company Borough  Taxi Pick Up Location Bridge Highway Name  \\\n",
              "0                   NaN                    NaN                 NaN   \n",
              "1                   NaN                    NaN                 NaN   \n",
              "\n",
              "  Bridge Highway Direction Road Ramp Bridge Highway Segment  Garage Lot Name  \\\n",
              "0                      NaN       NaN                    NaN              NaN   \n",
              "1                      NaN       NaN                    NaN              NaN   \n",
              "\n",
              "   Ferry Direction  Ferry Terminal Name   Latitude  Longitude  \\\n",
              "0              NaN                  NaN  40.865682 -73.923501   \n",
              "1              NaN                  NaN  40.775945 -73.915094   \n",
              "\n",
              "                                   Location  \n",
              "0   (40.86568153633767, -73.92350095571744)  \n",
              "1  (40.775945312321085, -73.91509393898605)  "
            ],
            "text/html": [
              "\n",
              "  <div id=\"df-fef49abf-bd8c-465c-b491-090d32a4f407\">\n",
              "    <div class=\"colab-df-container\">\n",
              "      <div>\n",
              "<style scoped>\n",
              "    .dataframe tbody tr th:only-of-type {\n",
              "        vertical-align: middle;\n",
              "    }\n",
              "\n",
              "    .dataframe tbody tr th {\n",
              "        vertical-align: top;\n",
              "    }\n",
              "\n",
              "    .dataframe thead th {\n",
              "        text-align: right;\n",
              "    }\n",
              "</style>\n",
              "<table border=\"1\" class=\"dataframe\">\n",
              "  <thead>\n",
              "    <tr style=\"text-align: right;\">\n",
              "      <th></th>\n",
              "      <th>Unique Key</th>\n",
              "      <th>Created Date</th>\n",
              "      <th>Closed Date</th>\n",
              "      <th>Agency</th>\n",
              "      <th>Agency Name</th>\n",
              "      <th>Complaint Type</th>\n",
              "      <th>Descriptor</th>\n",
              "      <th>Location Type</th>\n",
              "      <th>Incident Zip</th>\n",
              "      <th>Incident Address</th>\n",
              "      <th>Street Name</th>\n",
              "      <th>Cross Street 1</th>\n",
              "      <th>Cross Street 2</th>\n",
              "      <th>Intersection Street 1</th>\n",
              "      <th>Intersection Street 2</th>\n",
              "      <th>Address Type</th>\n",
              "      <th>City</th>\n",
              "      <th>Landmark</th>\n",
              "      <th>Facility Type</th>\n",
              "      <th>Status</th>\n",
              "      <th>Due Date</th>\n",
              "      <th>Resolution Description</th>\n",
              "      <th>Resolution Action Updated Date</th>\n",
              "      <th>Community Board</th>\n",
              "      <th>Borough</th>\n",
              "      <th>X Coordinate (State Plane)</th>\n",
              "      <th>Y Coordinate (State Plane)</th>\n",
              "      <th>Park Facility Name</th>\n",
              "      <th>Park Borough</th>\n",
              "      <th>School Name</th>\n",
              "      <th>School Number</th>\n",
              "      <th>School Region</th>\n",
              "      <th>School Code</th>\n",
              "      <th>School Phone Number</th>\n",
              "      <th>School Address</th>\n",
              "      <th>School City</th>\n",
              "      <th>School State</th>\n",
              "      <th>School Zip</th>\n",
              "      <th>School Not Found</th>\n",
              "      <th>School or Citywide Complaint</th>\n",
              "      <th>Vehicle Type</th>\n",
              "      <th>Taxi Company Borough</th>\n",
              "      <th>Taxi Pick Up Location</th>\n",
              "      <th>Bridge Highway Name</th>\n",
              "      <th>Bridge Highway Direction</th>\n",
              "      <th>Road Ramp</th>\n",
              "      <th>Bridge Highway Segment</th>\n",
              "      <th>Garage Lot Name</th>\n",
              "      <th>Ferry Direction</th>\n",
              "      <th>Ferry Terminal Name</th>\n",
              "      <th>Latitude</th>\n",
              "      <th>Longitude</th>\n",
              "      <th>Location</th>\n",
              "    </tr>\n",
              "  </thead>\n",
              "  <tbody>\n",
              "    <tr>\n",
              "      <th>0</th>\n",
              "      <td>32310363</td>\n",
              "      <td>12/31/2015 11:59:45 PM</td>\n",
              "      <td>01-01-16 0:55</td>\n",
              "      <td>NYPD</td>\n",
              "      <td>New York City Police Department</td>\n",
              "      <td>Noise - Street/Sidewalk</td>\n",
              "      <td>Loud Music/Party</td>\n",
              "      <td>Street/Sidewalk</td>\n",
              "      <td>10034.0</td>\n",
              "      <td>71 VERMILYEA AVENUE</td>\n",
              "      <td>VERMILYEA AVENUE</td>\n",
              "      <td>ACADEMY STREET</td>\n",
              "      <td>WEST 204 STREET</td>\n",
              "      <td>NaN</td>\n",
              "      <td>NaN</td>\n",
              "      <td>ADDRESS</td>\n",
              "      <td>NEW YORK</td>\n",
              "      <td>NaN</td>\n",
              "      <td>Precinct</td>\n",
              "      <td>Closed</td>\n",
              "      <td>01-01-16 7:59</td>\n",
              "      <td>The Police Department responded and upon arriv...</td>\n",
              "      <td>01-01-16 0:55</td>\n",
              "      <td>12 MANHATTAN</td>\n",
              "      <td>MANHATTAN</td>\n",
              "      <td>1005409.0</td>\n",
              "      <td>254678.0</td>\n",
              "      <td>Unspecified</td>\n",
              "      <td>MANHATTAN</td>\n",
              "      <td>Unspecified</td>\n",
              "      <td>Unspecified</td>\n",
              "      <td>Unspecified</td>\n",
              "      <td>Unspecified</td>\n",
              "      <td>Unspecified</td>\n",
              "      <td>Unspecified</td>\n",
              "      <td>Unspecified</td>\n",
              "      <td>Unspecified</td>\n",
              "      <td>Unspecified</td>\n",
              "      <td>N</td>\n",
              "      <td>NaN</td>\n",
              "      <td>NaN</td>\n",
              "      <td>NaN</td>\n",
              "      <td>NaN</td>\n",
              "      <td>NaN</td>\n",
              "      <td>NaN</td>\n",
              "      <td>NaN</td>\n",
              "      <td>NaN</td>\n",
              "      <td>NaN</td>\n",
              "      <td>NaN</td>\n",
              "      <td>NaN</td>\n",
              "      <td>40.865682</td>\n",
              "      <td>-73.923501</td>\n",
              "      <td>(40.86568153633767, -73.92350095571744)</td>\n",
              "    </tr>\n",
              "    <tr>\n",
              "      <th>1</th>\n",
              "      <td>32309934</td>\n",
              "      <td>12/31/2015 11:59:44 PM</td>\n",
              "      <td>01-01-16 1:26</td>\n",
              "      <td>NYPD</td>\n",
              "      <td>New York City Police Department</td>\n",
              "      <td>Blocked Driveway</td>\n",
              "      <td>No Access</td>\n",
              "      <td>Street/Sidewalk</td>\n",
              "      <td>11105.0</td>\n",
              "      <td>27-07 23 AVENUE</td>\n",
              "      <td>23 AVENUE</td>\n",
              "      <td>27 STREET</td>\n",
              "      <td>28 STREET</td>\n",
              "      <td>NaN</td>\n",
              "      <td>NaN</td>\n",
              "      <td>ADDRESS</td>\n",
              "      <td>ASTORIA</td>\n",
              "      <td>NaN</td>\n",
              "      <td>Precinct</td>\n",
              "      <td>Closed</td>\n",
              "      <td>01-01-16 7:59</td>\n",
              "      <td>The Police Department responded to the complai...</td>\n",
              "      <td>01-01-16 1:26</td>\n",
              "      <td>01 QUEENS</td>\n",
              "      <td>QUEENS</td>\n",
              "      <td>1007766.0</td>\n",
              "      <td>221986.0</td>\n",
              "      <td>Unspecified</td>\n",
              "      <td>QUEENS</td>\n",
              "      <td>Unspecified</td>\n",
              "      <td>Unspecified</td>\n",
              "      <td>Unspecified</td>\n",
              "      <td>Unspecified</td>\n",
              "      <td>Unspecified</td>\n",
              "      <td>Unspecified</td>\n",
              "      <td>Unspecified</td>\n",
              "      <td>Unspecified</td>\n",
              "      <td>Unspecified</td>\n",
              "      <td>N</td>\n",
              "      <td>NaN</td>\n",
              "      <td>NaN</td>\n",
              "      <td>NaN</td>\n",
              "      <td>NaN</td>\n",
              "      <td>NaN</td>\n",
              "      <td>NaN</td>\n",
              "      <td>NaN</td>\n",
              "      <td>NaN</td>\n",
              "      <td>NaN</td>\n",
              "      <td>NaN</td>\n",
              "      <td>NaN</td>\n",
              "      <td>40.775945</td>\n",
              "      <td>-73.915094</td>\n",
              "      <td>(40.775945312321085, -73.91509393898605)</td>\n",
              "    </tr>\n",
              "  </tbody>\n",
              "</table>\n",
              "</div>\n",
              "      <button class=\"colab-df-convert\" onclick=\"convertToInteractive('df-fef49abf-bd8c-465c-b491-090d32a4f407')\"\n",
              "              title=\"Convert this dataframe to an interactive table.\"\n",
              "              style=\"display:none;\">\n",
              "        \n",
              "  <svg xmlns=\"http://www.w3.org/2000/svg\" height=\"24px\"viewBox=\"0 0 24 24\"\n",
              "       width=\"24px\">\n",
              "    <path d=\"M0 0h24v24H0V0z\" fill=\"none\"/>\n",
              "    <path d=\"M18.56 5.44l.94 2.06.94-2.06 2.06-.94-2.06-.94-.94-2.06-.94 2.06-2.06.94zm-11 1L8.5 8.5l.94-2.06 2.06-.94-2.06-.94L8.5 2.5l-.94 2.06-2.06.94zm10 10l.94 2.06.94-2.06 2.06-.94-2.06-.94-.94-2.06-.94 2.06-2.06.94z\"/><path d=\"M17.41 7.96l-1.37-1.37c-.4-.4-.92-.59-1.43-.59-.52 0-1.04.2-1.43.59L10.3 9.45l-7.72 7.72c-.78.78-.78 2.05 0 2.83L4 21.41c.39.39.9.59 1.41.59.51 0 1.02-.2 1.41-.59l7.78-7.78 2.81-2.81c.8-.78.8-2.07 0-2.86zM5.41 20L4 18.59l7.72-7.72 1.47 1.35L5.41 20z\"/>\n",
              "  </svg>\n",
              "      </button>\n",
              "      \n",
              "  <style>\n",
              "    .colab-df-container {\n",
              "      display:flex;\n",
              "      flex-wrap:wrap;\n",
              "      gap: 12px;\n",
              "    }\n",
              "\n",
              "    .colab-df-convert {\n",
              "      background-color: #E8F0FE;\n",
              "      border: none;\n",
              "      border-radius: 50%;\n",
              "      cursor: pointer;\n",
              "      display: none;\n",
              "      fill: #1967D2;\n",
              "      height: 32px;\n",
              "      padding: 0 0 0 0;\n",
              "      width: 32px;\n",
              "    }\n",
              "\n",
              "    .colab-df-convert:hover {\n",
              "      background-color: #E2EBFA;\n",
              "      box-shadow: 0px 1px 2px rgba(60, 64, 67, 0.3), 0px 1px 3px 1px rgba(60, 64, 67, 0.15);\n",
              "      fill: #174EA6;\n",
              "    }\n",
              "\n",
              "    [theme=dark] .colab-df-convert {\n",
              "      background-color: #3B4455;\n",
              "      fill: #D2E3FC;\n",
              "    }\n",
              "\n",
              "    [theme=dark] .colab-df-convert:hover {\n",
              "      background-color: #434B5C;\n",
              "      box-shadow: 0px 1px 3px 1px rgba(0, 0, 0, 0.15);\n",
              "      filter: drop-shadow(0px 1px 2px rgba(0, 0, 0, 0.3));\n",
              "      fill: #FFFFFF;\n",
              "    }\n",
              "  </style>\n",
              "\n",
              "      <script>\n",
              "        const buttonEl =\n",
              "          document.querySelector('#df-fef49abf-bd8c-465c-b491-090d32a4f407 button.colab-df-convert');\n",
              "        buttonEl.style.display =\n",
              "          google.colab.kernel.accessAllowed ? 'block' : 'none';\n",
              "\n",
              "        async function convertToInteractive(key) {\n",
              "          const element = document.querySelector('#df-fef49abf-bd8c-465c-b491-090d32a4f407');\n",
              "          const dataTable =\n",
              "            await google.colab.kernel.invokeFunction('convertToInteractive',\n",
              "                                                     [key], {});\n",
              "          if (!dataTable) return;\n",
              "\n",
              "          const docLinkHtml = 'Like what you see? Visit the ' +\n",
              "            '<a target=\"_blank\" href=https://colab.research.google.com/notebooks/data_table.ipynb>data table notebook</a>'\n",
              "            + ' to learn more about interactive tables.';\n",
              "          element.innerHTML = '';\n",
              "          dataTable['output_type'] = 'display_data';\n",
              "          await google.colab.output.renderOutput(dataTable, element);\n",
              "          const docLink = document.createElement('div');\n",
              "          docLink.innerHTML = docLinkHtml;\n",
              "          element.appendChild(docLink);\n",
              "        }\n",
              "      </script>\n",
              "    </div>\n",
              "  </div>\n",
              "  "
            ]
          },
          "metadata": {},
          "execution_count": 9
        }
      ]
    },
    {
      "cell_type": "code",
      "source": [
        "# Checking the Na or NAN values in the data set \n",
        "dataset.isna().sum()"
      ],
      "metadata": {
        "colab": {
          "base_uri": "https://localhost:8080/"
        },
        "id": "GS4URTx54Wx-",
        "outputId": "f122c53c-580f-470a-962b-82588a0efabf"
      },
      "execution_count": 17,
      "outputs": [
        {
          "output_type": "execute_result",
          "data": {
            "text/plain": [
              "Unique Key                           0\n",
              "Created Date                         0\n",
              "Closed Date                        260\n",
              "Agency                               0\n",
              "Agency Name                          0\n",
              "Complaint Type                       0\n",
              "Descriptor                         660\n",
              "Location Type                        0\n",
              "Incident Zip                       302\n",
              "Incident Address                  5437\n",
              "Address Type                       345\n",
              "City                               303\n",
              "Facility Type                      256\n",
              "Status                               1\n",
              "Due Date                             1\n",
              "Resolution Description               1\n",
              "Resolution Action Updated Date     256\n",
              "Borough                              1\n",
              "Latitude                           400\n",
              "Longitude                          400\n",
              "Location                           400\n",
              "dtype: int64"
            ]
          },
          "metadata": {},
          "execution_count": 17
        }
      ]
    },
    {
      "cell_type": "code",
      "source": [
        "# Checking the data tail\n",
        "dataset.tail(3)"
      ],
      "metadata": {
        "colab": {
          "base_uri": "https://localhost:8080/",
          "height": 398
        },
        "id": "hlG0r89R4jID",
        "outputId": "1c16fd79-5038-4b41-e145-47d90b08defc"
      },
      "execution_count": 18,
      "outputs": [
        {
          "output_type": "execute_result",
          "data": {
            "text/plain": [
              "       Unique Key            Created Date             Closed Date Agency  \\\n",
              "46895    31986738  11/14/2015 02:03:26 PM  11/14/2015 09:25:45 PM   NYPD   \n",
              "46896    31986170  11/14/2015 02:02:40 PM  11/14/2015 04:58:27 PM   NYPD   \n",
              "46897    31977518  11/14/2015 02:02:13 PM  11/14/2015 10:53:14 PM   NYPD   \n",
              "\n",
              "                           Agency Name    Complaint Type  \\\n",
              "46895  New York City Police Department  Blocked Driveway   \n",
              "46896  New York City Police Department   Illegal Parking   \n",
              "46897  New York City Police Department  Blocked Driveway   \n",
              "\n",
              "                           Descriptor    Location Type  Incident Zip  \\\n",
              "46895                  Partial Access  Street/Sidewalk       10301.0   \n",
              "46896  Double Parked Blocking Vehicle  Street/Sidewalk       11377.0   \n",
              "46897                       No Access  Street/Sidewalk           NaN   \n",
              "\n",
              "          Incident Address  Address Type           City Facility Type  Status  \\\n",
              "46895  186 HAMILTON AVENUE       ADDRESS  STATEN ISLAND      Precinct  Closed   \n",
              "46896                  NaN  INTERSECTION       WOODSIDE      Precinct  Closed   \n",
              "46897                  NaN           NaN            NaN           NaN     NaN   \n",
              "\n",
              "                     Due Date  \\\n",
              "46895  11/14/2015 10:03:26 PM   \n",
              "46896  11/14/2015 10:02:40 PM   \n",
              "46897                     NaN   \n",
              "\n",
              "                                  Resolution Description  \\\n",
              "46895  The Police Department responded to the complai...   \n",
              "46896  The Police Department responded to the complai...   \n",
              "46897                                                NaN   \n",
              "\n",
              "      Resolution Action Updated Date        Borough   Latitude  Longitude  \\\n",
              "46895         11/14/2015 09:25:45 PM  STATEN ISLAND  40.644953 -74.083395   \n",
              "46896         11/14/2015 04:58:27 PM         QUEENS  40.747429 -73.903581   \n",
              "46897                            NaN            NaN        NaN        NaN   \n",
              "\n",
              "                                      Location  \n",
              "46895  (40.64495258946692, -74.08339527242123)  \n",
              "46896    (40.7474293363086, -73.9035814134291)  \n",
              "46897                                      NaN  "
            ],
            "text/html": [
              "\n",
              "  <div id=\"df-6f258672-ddd0-4031-8093-6e891487a0df\">\n",
              "    <div class=\"colab-df-container\">\n",
              "      <div>\n",
              "<style scoped>\n",
              "    .dataframe tbody tr th:only-of-type {\n",
              "        vertical-align: middle;\n",
              "    }\n",
              "\n",
              "    .dataframe tbody tr th {\n",
              "        vertical-align: top;\n",
              "    }\n",
              "\n",
              "    .dataframe thead th {\n",
              "        text-align: right;\n",
              "    }\n",
              "</style>\n",
              "<table border=\"1\" class=\"dataframe\">\n",
              "  <thead>\n",
              "    <tr style=\"text-align: right;\">\n",
              "      <th></th>\n",
              "      <th>Unique Key</th>\n",
              "      <th>Created Date</th>\n",
              "      <th>Closed Date</th>\n",
              "      <th>Agency</th>\n",
              "      <th>Agency Name</th>\n",
              "      <th>Complaint Type</th>\n",
              "      <th>Descriptor</th>\n",
              "      <th>Location Type</th>\n",
              "      <th>Incident Zip</th>\n",
              "      <th>Incident Address</th>\n",
              "      <th>Address Type</th>\n",
              "      <th>City</th>\n",
              "      <th>Facility Type</th>\n",
              "      <th>Status</th>\n",
              "      <th>Due Date</th>\n",
              "      <th>Resolution Description</th>\n",
              "      <th>Resolution Action Updated Date</th>\n",
              "      <th>Borough</th>\n",
              "      <th>Latitude</th>\n",
              "      <th>Longitude</th>\n",
              "      <th>Location</th>\n",
              "    </tr>\n",
              "  </thead>\n",
              "  <tbody>\n",
              "    <tr>\n",
              "      <th>46895</th>\n",
              "      <td>31986738</td>\n",
              "      <td>11/14/2015 02:03:26 PM</td>\n",
              "      <td>11/14/2015 09:25:45 PM</td>\n",
              "      <td>NYPD</td>\n",
              "      <td>New York City Police Department</td>\n",
              "      <td>Blocked Driveway</td>\n",
              "      <td>Partial Access</td>\n",
              "      <td>Street/Sidewalk</td>\n",
              "      <td>10301.0</td>\n",
              "      <td>186 HAMILTON AVENUE</td>\n",
              "      <td>ADDRESS</td>\n",
              "      <td>STATEN ISLAND</td>\n",
              "      <td>Precinct</td>\n",
              "      <td>Closed</td>\n",
              "      <td>11/14/2015 10:03:26 PM</td>\n",
              "      <td>The Police Department responded to the complai...</td>\n",
              "      <td>11/14/2015 09:25:45 PM</td>\n",
              "      <td>STATEN ISLAND</td>\n",
              "      <td>40.644953</td>\n",
              "      <td>-74.083395</td>\n",
              "      <td>(40.64495258946692, -74.08339527242123)</td>\n",
              "    </tr>\n",
              "    <tr>\n",
              "      <th>46896</th>\n",
              "      <td>31986170</td>\n",
              "      <td>11/14/2015 02:02:40 PM</td>\n",
              "      <td>11/14/2015 04:58:27 PM</td>\n",
              "      <td>NYPD</td>\n",
              "      <td>New York City Police Department</td>\n",
              "      <td>Illegal Parking</td>\n",
              "      <td>Double Parked Blocking Vehicle</td>\n",
              "      <td>Street/Sidewalk</td>\n",
              "      <td>11377.0</td>\n",
              "      <td>NaN</td>\n",
              "      <td>INTERSECTION</td>\n",
              "      <td>WOODSIDE</td>\n",
              "      <td>Precinct</td>\n",
              "      <td>Closed</td>\n",
              "      <td>11/14/2015 10:02:40 PM</td>\n",
              "      <td>The Police Department responded to the complai...</td>\n",
              "      <td>11/14/2015 04:58:27 PM</td>\n",
              "      <td>QUEENS</td>\n",
              "      <td>40.747429</td>\n",
              "      <td>-73.903581</td>\n",
              "      <td>(40.7474293363086, -73.9035814134291)</td>\n",
              "    </tr>\n",
              "    <tr>\n",
              "      <th>46897</th>\n",
              "      <td>31977518</td>\n",
              "      <td>11/14/2015 02:02:13 PM</td>\n",
              "      <td>11/14/2015 10:53:14 PM</td>\n",
              "      <td>NYPD</td>\n",
              "      <td>New York City Police Department</td>\n",
              "      <td>Blocked Driveway</td>\n",
              "      <td>No Access</td>\n",
              "      <td>Street/Sidewalk</td>\n",
              "      <td>NaN</td>\n",
              "      <td>NaN</td>\n",
              "      <td>NaN</td>\n",
              "      <td>NaN</td>\n",
              "      <td>NaN</td>\n",
              "      <td>NaN</td>\n",
              "      <td>NaN</td>\n",
              "      <td>NaN</td>\n",
              "      <td>NaN</td>\n",
              "      <td>NaN</td>\n",
              "      <td>NaN</td>\n",
              "      <td>NaN</td>\n",
              "      <td>NaN</td>\n",
              "    </tr>\n",
              "  </tbody>\n",
              "</table>\n",
              "</div>\n",
              "      <button class=\"colab-df-convert\" onclick=\"convertToInteractive('df-6f258672-ddd0-4031-8093-6e891487a0df')\"\n",
              "              title=\"Convert this dataframe to an interactive table.\"\n",
              "              style=\"display:none;\">\n",
              "        \n",
              "  <svg xmlns=\"http://www.w3.org/2000/svg\" height=\"24px\"viewBox=\"0 0 24 24\"\n",
              "       width=\"24px\">\n",
              "    <path d=\"M0 0h24v24H0V0z\" fill=\"none\"/>\n",
              "    <path d=\"M18.56 5.44l.94 2.06.94-2.06 2.06-.94-2.06-.94-.94-2.06-.94 2.06-2.06.94zm-11 1L8.5 8.5l.94-2.06 2.06-.94-2.06-.94L8.5 2.5l-.94 2.06-2.06.94zm10 10l.94 2.06.94-2.06 2.06-.94-2.06-.94-.94-2.06-.94 2.06-2.06.94z\"/><path d=\"M17.41 7.96l-1.37-1.37c-.4-.4-.92-.59-1.43-.59-.52 0-1.04.2-1.43.59L10.3 9.45l-7.72 7.72c-.78.78-.78 2.05 0 2.83L4 21.41c.39.39.9.59 1.41.59.51 0 1.02-.2 1.41-.59l7.78-7.78 2.81-2.81c.8-.78.8-2.07 0-2.86zM5.41 20L4 18.59l7.72-7.72 1.47 1.35L5.41 20z\"/>\n",
              "  </svg>\n",
              "      </button>\n",
              "      \n",
              "  <style>\n",
              "    .colab-df-container {\n",
              "      display:flex;\n",
              "      flex-wrap:wrap;\n",
              "      gap: 12px;\n",
              "    }\n",
              "\n",
              "    .colab-df-convert {\n",
              "      background-color: #E8F0FE;\n",
              "      border: none;\n",
              "      border-radius: 50%;\n",
              "      cursor: pointer;\n",
              "      display: none;\n",
              "      fill: #1967D2;\n",
              "      height: 32px;\n",
              "      padding: 0 0 0 0;\n",
              "      width: 32px;\n",
              "    }\n",
              "\n",
              "    .colab-df-convert:hover {\n",
              "      background-color: #E2EBFA;\n",
              "      box-shadow: 0px 1px 2px rgba(60, 64, 67, 0.3), 0px 1px 3px 1px rgba(60, 64, 67, 0.15);\n",
              "      fill: #174EA6;\n",
              "    }\n",
              "\n",
              "    [theme=dark] .colab-df-convert {\n",
              "      background-color: #3B4455;\n",
              "      fill: #D2E3FC;\n",
              "    }\n",
              "\n",
              "    [theme=dark] .colab-df-convert:hover {\n",
              "      background-color: #434B5C;\n",
              "      box-shadow: 0px 1px 3px 1px rgba(0, 0, 0, 0.15);\n",
              "      filter: drop-shadow(0px 1px 2px rgba(0, 0, 0, 0.3));\n",
              "      fill: #FFFFFF;\n",
              "    }\n",
              "  </style>\n",
              "\n",
              "      <script>\n",
              "        const buttonEl =\n",
              "          document.querySelector('#df-6f258672-ddd0-4031-8093-6e891487a0df button.colab-df-convert');\n",
              "        buttonEl.style.display =\n",
              "          google.colab.kernel.accessAllowed ? 'block' : 'none';\n",
              "\n",
              "        async function convertToInteractive(key) {\n",
              "          const element = document.querySelector('#df-6f258672-ddd0-4031-8093-6e891487a0df');\n",
              "          const dataTable =\n",
              "            await google.colab.kernel.invokeFunction('convertToInteractive',\n",
              "                                                     [key], {});\n",
              "          if (!dataTable) return;\n",
              "\n",
              "          const docLinkHtml = 'Like what you see? Visit the ' +\n",
              "            '<a target=\"_blank\" href=https://colab.research.google.com/notebooks/data_table.ipynb>data table notebook</a>'\n",
              "            + ' to learn more about interactive tables.';\n",
              "          element.innerHTML = '';\n",
              "          dataTable['output_type'] = 'display_data';\n",
              "          await google.colab.output.renderOutput(dataTable, element);\n",
              "          const docLink = document.createElement('div');\n",
              "          docLink.innerHTML = docLinkHtml;\n",
              "          element.appendChild(docLink);\n",
              "        }\n",
              "      </script>\n",
              "    </div>\n",
              "  </div>\n",
              "  "
            ]
          },
          "metadata": {},
          "execution_count": 18
        }
      ]
    },
    {
      "cell_type": "code",
      "source": [
        "# Question 3 Print the columns of the data set \n",
        "dataset.columns"
      ],
      "metadata": {
        "colab": {
          "base_uri": "https://localhost:8080/"
        },
        "id": "f9ymEho74xgg",
        "outputId": "0aaf94d8-7a83-4895-80c0-c297499c0d02"
      },
      "execution_count": 19,
      "outputs": [
        {
          "output_type": "execute_result",
          "data": {
            "text/plain": [
              "Index(['Unique Key', 'Created Date', 'Closed Date', 'Agency', 'Agency Name',\n",
              "       'Complaint Type', 'Descriptor', 'Location Type', 'Incident Zip',\n",
              "       'Incident Address', 'Address Type', 'City', 'Facility Type', 'Status',\n",
              "       'Due Date', 'Resolution Description', 'Resolution Action Updated Date',\n",
              "       'Borough', 'Latitude', 'Longitude', 'Location'],\n",
              "      dtype='object')"
            ]
          },
          "metadata": {},
          "execution_count": 19
        }
      ]
    },
    {
      "cell_type": "code",
      "source": [
        "# Finding the inforamtion of the type of the data set in the data , We have int , float and object type of data\n",
        "dataset.info()"
      ],
      "metadata": {
        "colab": {
          "base_uri": "https://localhost:8080/"
        },
        "id": "LT-aJJj45WIT",
        "outputId": "48b87720-50e5-46ef-ffa0-7178e6711b6e"
      },
      "execution_count": 20,
      "outputs": [
        {
          "output_type": "stream",
          "name": "stdout",
          "text": [
            "<class 'pandas.core.frame.DataFrame'>\n",
            "RangeIndex: 46898 entries, 0 to 46897\n",
            "Data columns (total 21 columns):\n",
            " #   Column                          Non-Null Count  Dtype  \n",
            "---  ------                          --------------  -----  \n",
            " 0   Unique Key                      46898 non-null  int64  \n",
            " 1   Created Date                    46898 non-null  object \n",
            " 2   Closed Date                     46638 non-null  object \n",
            " 3   Agency                          46898 non-null  object \n",
            " 4   Agency Name                     46898 non-null  object \n",
            " 5   Complaint Type                  46898 non-null  object \n",
            " 6   Descriptor                      46238 non-null  object \n",
            " 7   Location Type                   46898 non-null  object \n",
            " 8   Incident Zip                    46596 non-null  float64\n",
            " 9   Incident Address                41461 non-null  object \n",
            " 10  Address Type                    46553 non-null  object \n",
            " 11  City                            46595 non-null  object \n",
            " 12  Facility Type                   46642 non-null  object \n",
            " 13  Status                          46897 non-null  object \n",
            " 14  Due Date                        46897 non-null  object \n",
            " 15  Resolution Description          46897 non-null  object \n",
            " 16  Resolution Action Updated Date  46642 non-null  object \n",
            " 17  Borough                         46897 non-null  object \n",
            " 18  Latitude                        46498 non-null  float64\n",
            " 19  Longitude                       46498 non-null  float64\n",
            " 20  Location                        46498 non-null  object \n",
            "dtypes: float64(3), int64(1), object(17)\n",
            "memory usage: 7.5+ MB\n"
          ]
        }
      ]
    },
    {
      "cell_type": "code",
      "source": [
        "dataset.dtypes"
      ],
      "metadata": {
        "colab": {
          "base_uri": "https://localhost:8080/"
        },
        "id": "E6guF1k35fBz",
        "outputId": "30c26071-52b7-4906-a99e-f7e13cd8bf92"
      },
      "execution_count": 21,
      "outputs": [
        {
          "output_type": "execute_result",
          "data": {
            "text/plain": [
              "Unique Key                          int64\n",
              "Created Date                       object\n",
              "Closed Date                        object\n",
              "Agency                             object\n",
              "Agency Name                        object\n",
              "Complaint Type                     object\n",
              "Descriptor                         object\n",
              "Location Type                      object\n",
              "Incident Zip                      float64\n",
              "Incident Address                   object\n",
              "Address Type                       object\n",
              "City                               object\n",
              "Facility Type                      object\n",
              "Status                             object\n",
              "Due Date                           object\n",
              "Resolution Description             object\n",
              "Resolution Action Updated Date     object\n",
              "Borough                            object\n",
              "Latitude                          float64\n",
              "Longitude                         float64\n",
              "Location                           object\n",
              "dtype: object"
            ]
          },
          "metadata": {},
          "execution_count": 21
        }
      ]
    },
    {
      "cell_type": "code",
      "source": [
        "# Question 4 identify the shape in the data set, we have 53 columns and 9928 rows in the data set \n",
        "dataset.shape"
      ],
      "metadata": {
        "colab": {
          "base_uri": "https://localhost:8080/"
        },
        "id": "i9R0LDG752U0",
        "outputId": "8077dda4-42c0-40f6-b932-6f7dfc21fd77"
      },
      "execution_count": 22,
      "outputs": [
        {
          "output_type": "execute_result",
          "data": {
            "text/plain": [
              "(46898, 21)"
            ]
          },
          "metadata": {},
          "execution_count": 22
        }
      ]
    },
    {
      "cell_type": "code",
      "source": [
        "# Question 5 Identify the null values in the dataset\n",
        "dataset.isna().sum()"
      ],
      "metadata": {
        "colab": {
          "base_uri": "https://localhost:8080/"
        },
        "id": "gYDJlGiy6H20",
        "outputId": "9ff18dd9-946d-486a-ea77-6d6a9248e53b"
      },
      "execution_count": 23,
      "outputs": [
        {
          "output_type": "execute_result",
          "data": {
            "text/plain": [
              "Unique Key                           0\n",
              "Created Date                         0\n",
              "Closed Date                        260\n",
              "Agency                               0\n",
              "Agency Name                          0\n",
              "Complaint Type                       0\n",
              "Descriptor                         660\n",
              "Location Type                        0\n",
              "Incident Zip                       302\n",
              "Incident Address                  5437\n",
              "Address Type                       345\n",
              "City                               303\n",
              "Facility Type                      256\n",
              "Status                               1\n",
              "Due Date                             1\n",
              "Resolution Description               1\n",
              "Resolution Action Updated Date     256\n",
              "Borough                              1\n",
              "Latitude                           400\n",
              "Longitude                          400\n",
              "Location                           400\n",
              "dtype: int64"
            ]
          },
          "metadata": {},
          "execution_count": 23
        }
      ]
    },
    {
      "cell_type": "code",
      "source": [
        "#Question 2 \n",
        "#2.1 Draw a frequency plot to show the number of null values in each column of the DataFrame  ( Done)\n",
        "#2.2 Missing value treatment   \n",
        "#2.2.1 Remove the records whose Closed Date values are null  ( Done)\n",
        "#2.3 Analyze the date column, and remove entries that have an incorrect timeline     \n",
        "#2.3.1 Calculate the time elapsed in closed and creation date\n",
        "#2.3.2 Convert the calculated date to seconds to get a better representation\n",
        "#2.3.3 View the descriptive statistics for the newly created column\n",
        "#2.3.4 Check the number of null values in the Complaint_Type and City columns\n",
        "#2.3.5 Impute the NA value with Unknown City\n",
        "#2.3.6 Draw a frequency plot for the complaints in each city\n",
        "#2.3.7 Create a scatter and hexbin plot of the concentration of complaints across Brooklyn\n"
      ],
      "metadata": {
        "id": "yV3otYDC6Zwo"
      },
      "execution_count": 24,
      "outputs": []
    },
    {
      "cell_type": "code",
      "source": [
        "dataset['Created Date']=pd.to_datetime(dataset['Created Date'])\n",
        "dataset['Closed Date']=pd.to_datetime(dataset['Closed Date'])"
      ],
      "metadata": {
        "id": "HCILIqIz6vvB"
      },
      "execution_count": 25,
      "outputs": []
    },
    {
      "cell_type": "code",
      "source": [
        "dataset.head(2)"
      ],
      "metadata": {
        "colab": {
          "base_uri": "https://localhost:8080/",
          "height": 350
        },
        "id": "V7J61LF47CrD",
        "outputId": "4da391f1-8f3a-44a3-beda-420f13d42ecb"
      },
      "execution_count": 26,
      "outputs": [
        {
          "output_type": "execute_result",
          "data": {
            "text/plain": [
              "   Unique Key        Created Date         Closed Date Agency  \\\n",
              "0    32310363 2015-12-31 23:59:45 2016-01-01 00:55:00   NYPD   \n",
              "1    32309934 2015-12-31 23:59:44 2016-01-01 01:26:00   NYPD   \n",
              "\n",
              "                       Agency Name           Complaint Type        Descriptor  \\\n",
              "0  New York City Police Department  Noise - Street/Sidewalk  Loud Music/Party   \n",
              "1  New York City Police Department         Blocked Driveway         No Access   \n",
              "\n",
              "     Location Type  Incident Zip     Incident Address Address Type      City  \\\n",
              "0  Street/Sidewalk       10034.0  71 VERMILYEA AVENUE      ADDRESS  NEW YORK   \n",
              "1  Street/Sidewalk       11105.0      27-07 23 AVENUE      ADDRESS   ASTORIA   \n",
              "\n",
              "  Facility Type  Status       Due Date  \\\n",
              "0      Precinct  Closed  01-01-16 7:59   \n",
              "1      Precinct  Closed  01-01-16 7:59   \n",
              "\n",
              "                              Resolution Description  \\\n",
              "0  The Police Department responded and upon arriv...   \n",
              "1  The Police Department responded to the complai...   \n",
              "\n",
              "  Resolution Action Updated Date    Borough   Latitude  Longitude  \\\n",
              "0                  01-01-16 0:55  MANHATTAN  40.865682 -73.923501   \n",
              "1                  01-01-16 1:26     QUEENS  40.775945 -73.915094   \n",
              "\n",
              "                                   Location  \n",
              "0   (40.86568153633767, -73.92350095571744)  \n",
              "1  (40.775945312321085, -73.91509393898605)  "
            ],
            "text/html": [
              "\n",
              "  <div id=\"df-810b0cd3-de23-446c-8a56-05cb2a1b512c\">\n",
              "    <div class=\"colab-df-container\">\n",
              "      <div>\n",
              "<style scoped>\n",
              "    .dataframe tbody tr th:only-of-type {\n",
              "        vertical-align: middle;\n",
              "    }\n",
              "\n",
              "    .dataframe tbody tr th {\n",
              "        vertical-align: top;\n",
              "    }\n",
              "\n",
              "    .dataframe thead th {\n",
              "        text-align: right;\n",
              "    }\n",
              "</style>\n",
              "<table border=\"1\" class=\"dataframe\">\n",
              "  <thead>\n",
              "    <tr style=\"text-align: right;\">\n",
              "      <th></th>\n",
              "      <th>Unique Key</th>\n",
              "      <th>Created Date</th>\n",
              "      <th>Closed Date</th>\n",
              "      <th>Agency</th>\n",
              "      <th>Agency Name</th>\n",
              "      <th>Complaint Type</th>\n",
              "      <th>Descriptor</th>\n",
              "      <th>Location Type</th>\n",
              "      <th>Incident Zip</th>\n",
              "      <th>Incident Address</th>\n",
              "      <th>Address Type</th>\n",
              "      <th>City</th>\n",
              "      <th>Facility Type</th>\n",
              "      <th>Status</th>\n",
              "      <th>Due Date</th>\n",
              "      <th>Resolution Description</th>\n",
              "      <th>Resolution Action Updated Date</th>\n",
              "      <th>Borough</th>\n",
              "      <th>Latitude</th>\n",
              "      <th>Longitude</th>\n",
              "      <th>Location</th>\n",
              "    </tr>\n",
              "  </thead>\n",
              "  <tbody>\n",
              "    <tr>\n",
              "      <th>0</th>\n",
              "      <td>32310363</td>\n",
              "      <td>2015-12-31 23:59:45</td>\n",
              "      <td>2016-01-01 00:55:00</td>\n",
              "      <td>NYPD</td>\n",
              "      <td>New York City Police Department</td>\n",
              "      <td>Noise - Street/Sidewalk</td>\n",
              "      <td>Loud Music/Party</td>\n",
              "      <td>Street/Sidewalk</td>\n",
              "      <td>10034.0</td>\n",
              "      <td>71 VERMILYEA AVENUE</td>\n",
              "      <td>ADDRESS</td>\n",
              "      <td>NEW YORK</td>\n",
              "      <td>Precinct</td>\n",
              "      <td>Closed</td>\n",
              "      <td>01-01-16 7:59</td>\n",
              "      <td>The Police Department responded and upon arriv...</td>\n",
              "      <td>01-01-16 0:55</td>\n",
              "      <td>MANHATTAN</td>\n",
              "      <td>40.865682</td>\n",
              "      <td>-73.923501</td>\n",
              "      <td>(40.86568153633767, -73.92350095571744)</td>\n",
              "    </tr>\n",
              "    <tr>\n",
              "      <th>1</th>\n",
              "      <td>32309934</td>\n",
              "      <td>2015-12-31 23:59:44</td>\n",
              "      <td>2016-01-01 01:26:00</td>\n",
              "      <td>NYPD</td>\n",
              "      <td>New York City Police Department</td>\n",
              "      <td>Blocked Driveway</td>\n",
              "      <td>No Access</td>\n",
              "      <td>Street/Sidewalk</td>\n",
              "      <td>11105.0</td>\n",
              "      <td>27-07 23 AVENUE</td>\n",
              "      <td>ADDRESS</td>\n",
              "      <td>ASTORIA</td>\n",
              "      <td>Precinct</td>\n",
              "      <td>Closed</td>\n",
              "      <td>01-01-16 7:59</td>\n",
              "      <td>The Police Department responded to the complai...</td>\n",
              "      <td>01-01-16 1:26</td>\n",
              "      <td>QUEENS</td>\n",
              "      <td>40.775945</td>\n",
              "      <td>-73.915094</td>\n",
              "      <td>(40.775945312321085, -73.91509393898605)</td>\n",
              "    </tr>\n",
              "  </tbody>\n",
              "</table>\n",
              "</div>\n",
              "      <button class=\"colab-df-convert\" onclick=\"convertToInteractive('df-810b0cd3-de23-446c-8a56-05cb2a1b512c')\"\n",
              "              title=\"Convert this dataframe to an interactive table.\"\n",
              "              style=\"display:none;\">\n",
              "        \n",
              "  <svg xmlns=\"http://www.w3.org/2000/svg\" height=\"24px\"viewBox=\"0 0 24 24\"\n",
              "       width=\"24px\">\n",
              "    <path d=\"M0 0h24v24H0V0z\" fill=\"none\"/>\n",
              "    <path d=\"M18.56 5.44l.94 2.06.94-2.06 2.06-.94-2.06-.94-.94-2.06-.94 2.06-2.06.94zm-11 1L8.5 8.5l.94-2.06 2.06-.94-2.06-.94L8.5 2.5l-.94 2.06-2.06.94zm10 10l.94 2.06.94-2.06 2.06-.94-2.06-.94-.94-2.06-.94 2.06-2.06.94z\"/><path d=\"M17.41 7.96l-1.37-1.37c-.4-.4-.92-.59-1.43-.59-.52 0-1.04.2-1.43.59L10.3 9.45l-7.72 7.72c-.78.78-.78 2.05 0 2.83L4 21.41c.39.39.9.59 1.41.59.51 0 1.02-.2 1.41-.59l7.78-7.78 2.81-2.81c.8-.78.8-2.07 0-2.86zM5.41 20L4 18.59l7.72-7.72 1.47 1.35L5.41 20z\"/>\n",
              "  </svg>\n",
              "      </button>\n",
              "      \n",
              "  <style>\n",
              "    .colab-df-container {\n",
              "      display:flex;\n",
              "      flex-wrap:wrap;\n",
              "      gap: 12px;\n",
              "    }\n",
              "\n",
              "    .colab-df-convert {\n",
              "      background-color: #E8F0FE;\n",
              "      border: none;\n",
              "      border-radius: 50%;\n",
              "      cursor: pointer;\n",
              "      display: none;\n",
              "      fill: #1967D2;\n",
              "      height: 32px;\n",
              "      padding: 0 0 0 0;\n",
              "      width: 32px;\n",
              "    }\n",
              "\n",
              "    .colab-df-convert:hover {\n",
              "      background-color: #E2EBFA;\n",
              "      box-shadow: 0px 1px 2px rgba(60, 64, 67, 0.3), 0px 1px 3px 1px rgba(60, 64, 67, 0.15);\n",
              "      fill: #174EA6;\n",
              "    }\n",
              "\n",
              "    [theme=dark] .colab-df-convert {\n",
              "      background-color: #3B4455;\n",
              "      fill: #D2E3FC;\n",
              "    }\n",
              "\n",
              "    [theme=dark] .colab-df-convert:hover {\n",
              "      background-color: #434B5C;\n",
              "      box-shadow: 0px 1px 3px 1px rgba(0, 0, 0, 0.15);\n",
              "      filter: drop-shadow(0px 1px 2px rgba(0, 0, 0, 0.3));\n",
              "      fill: #FFFFFF;\n",
              "    }\n",
              "  </style>\n",
              "\n",
              "      <script>\n",
              "        const buttonEl =\n",
              "          document.querySelector('#df-810b0cd3-de23-446c-8a56-05cb2a1b512c button.colab-df-convert');\n",
              "        buttonEl.style.display =\n",
              "          google.colab.kernel.accessAllowed ? 'block' : 'none';\n",
              "\n",
              "        async function convertToInteractive(key) {\n",
              "          const element = document.querySelector('#df-810b0cd3-de23-446c-8a56-05cb2a1b512c');\n",
              "          const dataTable =\n",
              "            await google.colab.kernel.invokeFunction('convertToInteractive',\n",
              "                                                     [key], {});\n",
              "          if (!dataTable) return;\n",
              "\n",
              "          const docLinkHtml = 'Like what you see? Visit the ' +\n",
              "            '<a target=\"_blank\" href=https://colab.research.google.com/notebooks/data_table.ipynb>data table notebook</a>'\n",
              "            + ' to learn more about interactive tables.';\n",
              "          element.innerHTML = '';\n",
              "          dataTable['output_type'] = 'display_data';\n",
              "          await google.colab.output.renderOutput(dataTable, element);\n",
              "          const docLink = document.createElement('div');\n",
              "          docLink.innerHTML = docLinkHtml;\n",
              "          element.appendChild(docLink);\n",
              "        }\n",
              "      </script>\n",
              "    </div>\n",
              "  </div>\n",
              "  "
            ]
          },
          "metadata": {},
          "execution_count": 26
        }
      ]
    },
    {
      "cell_type": "code",
      "source": [
        "dataset['Request Closing Time']= dataset['Closed Date']-dataset['Created Date']"
      ],
      "metadata": {
        "id": "LTXzIdWb7Yx6"
      },
      "execution_count": 27,
      "outputs": []
    },
    {
      "cell_type": "code",
      "source": [
        "dataset.head(2)"
      ],
      "metadata": {
        "colab": {
          "base_uri": "https://localhost:8080/",
          "height": 350
        },
        "id": "R0SbE2jA7rnN",
        "outputId": "b8f9e1be-7029-49f8-8e50-f416dcf5190f"
      },
      "execution_count": 28,
      "outputs": [
        {
          "output_type": "execute_result",
          "data": {
            "text/plain": [
              "   Unique Key        Created Date         Closed Date Agency  \\\n",
              "0    32310363 2015-12-31 23:59:45 2016-01-01 00:55:00   NYPD   \n",
              "1    32309934 2015-12-31 23:59:44 2016-01-01 01:26:00   NYPD   \n",
              "\n",
              "                       Agency Name           Complaint Type        Descriptor  \\\n",
              "0  New York City Police Department  Noise - Street/Sidewalk  Loud Music/Party   \n",
              "1  New York City Police Department         Blocked Driveway         No Access   \n",
              "\n",
              "     Location Type  Incident Zip     Incident Address Address Type      City  \\\n",
              "0  Street/Sidewalk       10034.0  71 VERMILYEA AVENUE      ADDRESS  NEW YORK   \n",
              "1  Street/Sidewalk       11105.0      27-07 23 AVENUE      ADDRESS   ASTORIA   \n",
              "\n",
              "  Facility Type  Status       Due Date  \\\n",
              "0      Precinct  Closed  01-01-16 7:59   \n",
              "1      Precinct  Closed  01-01-16 7:59   \n",
              "\n",
              "                              Resolution Description  \\\n",
              "0  The Police Department responded and upon arriv...   \n",
              "1  The Police Department responded to the complai...   \n",
              "\n",
              "  Resolution Action Updated Date    Borough   Latitude  Longitude  \\\n",
              "0                  01-01-16 0:55  MANHATTAN  40.865682 -73.923501   \n",
              "1                  01-01-16 1:26     QUEENS  40.775945 -73.915094   \n",
              "\n",
              "                                   Location Request Closing Time  \n",
              "0   (40.86568153633767, -73.92350095571744)      0 days 00:55:15  \n",
              "1  (40.775945312321085, -73.91509393898605)      0 days 01:26:16  "
            ],
            "text/html": [
              "\n",
              "  <div id=\"df-74e8301f-ce8a-42f9-9a90-7878d64d6ae0\">\n",
              "    <div class=\"colab-df-container\">\n",
              "      <div>\n",
              "<style scoped>\n",
              "    .dataframe tbody tr th:only-of-type {\n",
              "        vertical-align: middle;\n",
              "    }\n",
              "\n",
              "    .dataframe tbody tr th {\n",
              "        vertical-align: top;\n",
              "    }\n",
              "\n",
              "    .dataframe thead th {\n",
              "        text-align: right;\n",
              "    }\n",
              "</style>\n",
              "<table border=\"1\" class=\"dataframe\">\n",
              "  <thead>\n",
              "    <tr style=\"text-align: right;\">\n",
              "      <th></th>\n",
              "      <th>Unique Key</th>\n",
              "      <th>Created Date</th>\n",
              "      <th>Closed Date</th>\n",
              "      <th>Agency</th>\n",
              "      <th>Agency Name</th>\n",
              "      <th>Complaint Type</th>\n",
              "      <th>Descriptor</th>\n",
              "      <th>Location Type</th>\n",
              "      <th>Incident Zip</th>\n",
              "      <th>Incident Address</th>\n",
              "      <th>Address Type</th>\n",
              "      <th>City</th>\n",
              "      <th>Facility Type</th>\n",
              "      <th>Status</th>\n",
              "      <th>Due Date</th>\n",
              "      <th>Resolution Description</th>\n",
              "      <th>Resolution Action Updated Date</th>\n",
              "      <th>Borough</th>\n",
              "      <th>Latitude</th>\n",
              "      <th>Longitude</th>\n",
              "      <th>Location</th>\n",
              "      <th>Request Closing Time</th>\n",
              "    </tr>\n",
              "  </thead>\n",
              "  <tbody>\n",
              "    <tr>\n",
              "      <th>0</th>\n",
              "      <td>32310363</td>\n",
              "      <td>2015-12-31 23:59:45</td>\n",
              "      <td>2016-01-01 00:55:00</td>\n",
              "      <td>NYPD</td>\n",
              "      <td>New York City Police Department</td>\n",
              "      <td>Noise - Street/Sidewalk</td>\n",
              "      <td>Loud Music/Party</td>\n",
              "      <td>Street/Sidewalk</td>\n",
              "      <td>10034.0</td>\n",
              "      <td>71 VERMILYEA AVENUE</td>\n",
              "      <td>ADDRESS</td>\n",
              "      <td>NEW YORK</td>\n",
              "      <td>Precinct</td>\n",
              "      <td>Closed</td>\n",
              "      <td>01-01-16 7:59</td>\n",
              "      <td>The Police Department responded and upon arriv...</td>\n",
              "      <td>01-01-16 0:55</td>\n",
              "      <td>MANHATTAN</td>\n",
              "      <td>40.865682</td>\n",
              "      <td>-73.923501</td>\n",
              "      <td>(40.86568153633767, -73.92350095571744)</td>\n",
              "      <td>0 days 00:55:15</td>\n",
              "    </tr>\n",
              "    <tr>\n",
              "      <th>1</th>\n",
              "      <td>32309934</td>\n",
              "      <td>2015-12-31 23:59:44</td>\n",
              "      <td>2016-01-01 01:26:00</td>\n",
              "      <td>NYPD</td>\n",
              "      <td>New York City Police Department</td>\n",
              "      <td>Blocked Driveway</td>\n",
              "      <td>No Access</td>\n",
              "      <td>Street/Sidewalk</td>\n",
              "      <td>11105.0</td>\n",
              "      <td>27-07 23 AVENUE</td>\n",
              "      <td>ADDRESS</td>\n",
              "      <td>ASTORIA</td>\n",
              "      <td>Precinct</td>\n",
              "      <td>Closed</td>\n",
              "      <td>01-01-16 7:59</td>\n",
              "      <td>The Police Department responded to the complai...</td>\n",
              "      <td>01-01-16 1:26</td>\n",
              "      <td>QUEENS</td>\n",
              "      <td>40.775945</td>\n",
              "      <td>-73.915094</td>\n",
              "      <td>(40.775945312321085, -73.91509393898605)</td>\n",
              "      <td>0 days 01:26:16</td>\n",
              "    </tr>\n",
              "  </tbody>\n",
              "</table>\n",
              "</div>\n",
              "      <button class=\"colab-df-convert\" onclick=\"convertToInteractive('df-74e8301f-ce8a-42f9-9a90-7878d64d6ae0')\"\n",
              "              title=\"Convert this dataframe to an interactive table.\"\n",
              "              style=\"display:none;\">\n",
              "        \n",
              "  <svg xmlns=\"http://www.w3.org/2000/svg\" height=\"24px\"viewBox=\"0 0 24 24\"\n",
              "       width=\"24px\">\n",
              "    <path d=\"M0 0h24v24H0V0z\" fill=\"none\"/>\n",
              "    <path d=\"M18.56 5.44l.94 2.06.94-2.06 2.06-.94-2.06-.94-.94-2.06-.94 2.06-2.06.94zm-11 1L8.5 8.5l.94-2.06 2.06-.94-2.06-.94L8.5 2.5l-.94 2.06-2.06.94zm10 10l.94 2.06.94-2.06 2.06-.94-2.06-.94-.94-2.06-.94 2.06-2.06.94z\"/><path d=\"M17.41 7.96l-1.37-1.37c-.4-.4-.92-.59-1.43-.59-.52 0-1.04.2-1.43.59L10.3 9.45l-7.72 7.72c-.78.78-.78 2.05 0 2.83L4 21.41c.39.39.9.59 1.41.59.51 0 1.02-.2 1.41-.59l7.78-7.78 2.81-2.81c.8-.78.8-2.07 0-2.86zM5.41 20L4 18.59l7.72-7.72 1.47 1.35L5.41 20z\"/>\n",
              "  </svg>\n",
              "      </button>\n",
              "      \n",
              "  <style>\n",
              "    .colab-df-container {\n",
              "      display:flex;\n",
              "      flex-wrap:wrap;\n",
              "      gap: 12px;\n",
              "    }\n",
              "\n",
              "    .colab-df-convert {\n",
              "      background-color: #E8F0FE;\n",
              "      border: none;\n",
              "      border-radius: 50%;\n",
              "      cursor: pointer;\n",
              "      display: none;\n",
              "      fill: #1967D2;\n",
              "      height: 32px;\n",
              "      padding: 0 0 0 0;\n",
              "      width: 32px;\n",
              "    }\n",
              "\n",
              "    .colab-df-convert:hover {\n",
              "      background-color: #E2EBFA;\n",
              "      box-shadow: 0px 1px 2px rgba(60, 64, 67, 0.3), 0px 1px 3px 1px rgba(60, 64, 67, 0.15);\n",
              "      fill: #174EA6;\n",
              "    }\n",
              "\n",
              "    [theme=dark] .colab-df-convert {\n",
              "      background-color: #3B4455;\n",
              "      fill: #D2E3FC;\n",
              "    }\n",
              "\n",
              "    [theme=dark] .colab-df-convert:hover {\n",
              "      background-color: #434B5C;\n",
              "      box-shadow: 0px 1px 3px 1px rgba(0, 0, 0, 0.15);\n",
              "      filter: drop-shadow(0px 1px 2px rgba(0, 0, 0, 0.3));\n",
              "      fill: #FFFFFF;\n",
              "    }\n",
              "  </style>\n",
              "\n",
              "      <script>\n",
              "        const buttonEl =\n",
              "          document.querySelector('#df-74e8301f-ce8a-42f9-9a90-7878d64d6ae0 button.colab-df-convert');\n",
              "        buttonEl.style.display =\n",
              "          google.colab.kernel.accessAllowed ? 'block' : 'none';\n",
              "\n",
              "        async function convertToInteractive(key) {\n",
              "          const element = document.querySelector('#df-74e8301f-ce8a-42f9-9a90-7878d64d6ae0');\n",
              "          const dataTable =\n",
              "            await google.colab.kernel.invokeFunction('convertToInteractive',\n",
              "                                                     [key], {});\n",
              "          if (!dataTable) return;\n",
              "\n",
              "          const docLinkHtml = 'Like what you see? Visit the ' +\n",
              "            '<a target=\"_blank\" href=https://colab.research.google.com/notebooks/data_table.ipynb>data table notebook</a>'\n",
              "            + ' to learn more about interactive tables.';\n",
              "          element.innerHTML = '';\n",
              "          dataTable['output_type'] = 'display_data';\n",
              "          await google.colab.output.renderOutput(dataTable, element);\n",
              "          const docLink = document.createElement('div');\n",
              "          docLink.innerHTML = docLinkHtml;\n",
              "          element.appendChild(docLink);\n",
              "        }\n",
              "      </script>\n",
              "    </div>\n",
              "  </div>\n",
              "  "
            ]
          },
          "metadata": {},
          "execution_count": 28
        }
      ]
    },
    {
      "cell_type": "code",
      "source": [
        "dataset.isna().sum()"
      ],
      "metadata": {
        "colab": {
          "base_uri": "https://localhost:8080/"
        },
        "id": "egaY2QuI78kX",
        "outputId": "3fef26a3-c0b9-481a-a02a-28369107fef2"
      },
      "execution_count": 29,
      "outputs": [
        {
          "output_type": "execute_result",
          "data": {
            "text/plain": [
              "Unique Key                           0\n",
              "Created Date                         0\n",
              "Closed Date                        260\n",
              "Agency                               0\n",
              "Agency Name                          0\n",
              "Complaint Type                       0\n",
              "Descriptor                         660\n",
              "Location Type                        0\n",
              "Incident Zip                       302\n",
              "Incident Address                  5437\n",
              "Address Type                       345\n",
              "City                               303\n",
              "Facility Type                      256\n",
              "Status                               1\n",
              "Due Date                             1\n",
              "Resolution Description               1\n",
              "Resolution Action Updated Date     256\n",
              "Borough                              1\n",
              "Latitude                           400\n",
              "Longitude                          400\n",
              "Location                           400\n",
              "Request Closing Time               260\n",
              "dtype: int64"
            ]
          },
          "metadata": {},
          "execution_count": 29
        }
      ]
    },
    {
      "cell_type": "code",
      "source": [
        "dataset['Closed Date'].fillna(value=dataset['Request Closing Time'].mean(),inplace=True)"
      ],
      "metadata": {
        "id": "pqd8tY-x8Fl-"
      },
      "execution_count": 31,
      "outputs": []
    },
    {
      "cell_type": "code",
      "source": [
        "dataset.isna().sum()"
      ],
      "metadata": {
        "colab": {
          "base_uri": "https://localhost:8080/"
        },
        "id": "ubFMphkV861Y",
        "outputId": "39ee3b0e-14e0-4e16-e8d4-2353f7575241"
      },
      "execution_count": 32,
      "outputs": [
        {
          "output_type": "execute_result",
          "data": {
            "text/plain": [
              "Unique Key                           0\n",
              "Created Date                         0\n",
              "Closed Date                          0\n",
              "Agency                               0\n",
              "Agency Name                          0\n",
              "Complaint Type                       0\n",
              "Descriptor                         660\n",
              "Location Type                        0\n",
              "Incident Zip                       302\n",
              "Incident Address                  5437\n",
              "Address Type                       345\n",
              "City                               303\n",
              "Facility Type                      256\n",
              "Status                               1\n",
              "Due Date                             1\n",
              "Resolution Description               1\n",
              "Resolution Action Updated Date     256\n",
              "Borough                              1\n",
              "Latitude                           400\n",
              "Longitude                          400\n",
              "Location                           400\n",
              "Request Closing Time               260\n",
              "dtype: int64"
            ]
          },
          "metadata": {},
          "execution_count": 32
        }
      ]
    },
    {
      "cell_type": "code",
      "source": [
        "# Closed data mean value given to the data from the mean of the request closing time of the complain."
      ],
      "metadata": {
        "id": "Y2BLBcT_9CuH"
      },
      "execution_count": 35,
      "outputs": []
    },
    {
      "cell_type": "code",
      "source": [
        "dataset.columns"
      ],
      "metadata": {
        "colab": {
          "base_uri": "https://localhost:8080/"
        },
        "id": "2G9XwrWE9TFt",
        "outputId": "2c7e8d07-28f2-47e9-fc90-100fc5cf8ac5"
      },
      "execution_count": 37,
      "outputs": [
        {
          "output_type": "execute_result",
          "data": {
            "text/plain": [
              "Index(['Unique Key', 'Created Date', 'Closed Date', 'Agency', 'Agency Name',\n",
              "       'Complaint Type', 'Descriptor', 'Location Type', 'Incident Zip',\n",
              "       'Incident Address', 'Street Name', 'Cross Street 1', 'Cross Street 2',\n",
              "       'Intersection Street 1', 'Intersection Street 2', 'Address Type',\n",
              "       'City', 'Landmark', 'Facility Type', 'Status', 'Due Date',\n",
              "       'Resolution Description', 'Resolution Action Updated Date',\n",
              "       'Community Board', 'Borough', 'X Coordinate (State Plane)',\n",
              "       'Y Coordinate (State Plane)', 'Park Facility Name', 'Park Borough',\n",
              "       'School Name', 'School Number', 'School Region', 'School Code',\n",
              "       'School Phone Number', 'School Address', 'School City', 'School State',\n",
              "       'School Zip', 'School Not Found', 'School or Citywide Complaint',\n",
              "       'Vehicle Type', 'Taxi Company Borough', 'Taxi Pick Up Location',\n",
              "       'Bridge Highway Name', 'Bridge Highway Direction', 'Road Ramp',\n",
              "       'Bridge Highway Segment', 'Garage Lot Name', 'Ferry Direction',\n",
              "       'Ferry Terminal Name', 'Latitude', 'Longitude', 'Location',\n",
              "       'Request Closing Time'],\n",
              "      dtype='object')"
            ]
          },
          "metadata": {},
          "execution_count": 37
        }
      ]
    },
    {
      "cell_type": "code",
      "source": [
        "dataset.drop(['Street Name', 'Cross Street 1', 'Cross Street 2',\n",
        "       'Intersection Street 1', 'Intersection Street 2','Community Board','X Coordinate (State Plane)',\n",
        "       'Y Coordinate (State Plane)', 'Park Facility Name', 'Park Borough',\n",
        "       'School Name', 'School Number', 'School Region', 'School Code',\n",
        "       'School Phone Number', 'School Address', 'School City', 'School State',\n",
        "       'School Zip', 'School Not Found', 'School or Citywide Complaint',\n",
        "       'Vehicle Type', 'Taxi Company Borough', 'Taxi Pick Up Location',\n",
        "       'Bridge Highway Name', 'Bridge Highway Direction', 'Road Ramp',\n",
        "       'Bridge Highway Segment', 'Garage Lot Name', 'Ferry Direction',\n",
        "       'Ferry Terminal Name','Landmark'],axis=1,inplace =True)"
      ],
      "metadata": {
        "id": "sVs6H96U95sI"
      },
      "execution_count": 10,
      "outputs": []
    },
    {
      "cell_type": "code",
      "source": [
        "dataset.isna().sum()"
      ],
      "metadata": {
        "colab": {
          "base_uri": "https://localhost:8080/"
        },
        "id": "Qvp69KqA-dQS",
        "outputId": "a54130fb-ac57-43eb-c18e-a9f2d91908a1"
      },
      "execution_count": 33,
      "outputs": [
        {
          "output_type": "execute_result",
          "data": {
            "text/plain": [
              "Unique Key                           0\n",
              "Created Date                         0\n",
              "Closed Date                          0\n",
              "Agency                               0\n",
              "Agency Name                          0\n",
              "Complaint Type                       0\n",
              "Descriptor                         660\n",
              "Location Type                        0\n",
              "Incident Zip                       302\n",
              "Incident Address                  5437\n",
              "Address Type                       345\n",
              "City                               303\n",
              "Facility Type                      256\n",
              "Status                               1\n",
              "Due Date                             1\n",
              "Resolution Description               1\n",
              "Resolution Action Updated Date     256\n",
              "Borough                              1\n",
              "Latitude                           400\n",
              "Longitude                          400\n",
              "Location                           400\n",
              "Request Closing Time               260\n",
              "dtype: int64"
            ]
          },
          "metadata": {},
          "execution_count": 33
        }
      ]
    },
    {
      "cell_type": "code",
      "source": [
        "dataset.shape"
      ],
      "metadata": {
        "colab": {
          "base_uri": "https://localhost:8080/"
        },
        "id": "dWnWjN9t-pZk",
        "outputId": "b248c218-0bbe-4d73-e0b0-4a14f153f681"
      },
      "execution_count": 34,
      "outputs": [
        {
          "output_type": "execute_result",
          "data": {
            "text/plain": [
              "(46898, 22)"
            ]
          },
          "metadata": {},
          "execution_count": 34
        }
      ]
    },
    {
      "cell_type": "code",
      "source": [
        "dataset.info()"
      ],
      "metadata": {
        "colab": {
          "base_uri": "https://localhost:8080/"
        },
        "id": "VFJqGirb-tue",
        "outputId": "a6c5a35f-08c4-4ed8-84b4-1830ae546349"
      },
      "execution_count": 35,
      "outputs": [
        {
          "output_type": "stream",
          "name": "stdout",
          "text": [
            "<class 'pandas.core.frame.DataFrame'>\n",
            "RangeIndex: 46898 entries, 0 to 46897\n",
            "Data columns (total 22 columns):\n",
            " #   Column                          Non-Null Count  Dtype          \n",
            "---  ------                          --------------  -----          \n",
            " 0   Unique Key                      46898 non-null  int64          \n",
            " 1   Created Date                    46898 non-null  datetime64[ns] \n",
            " 2   Closed Date                     46898 non-null  object         \n",
            " 3   Agency                          46898 non-null  object         \n",
            " 4   Agency Name                     46898 non-null  object         \n",
            " 5   Complaint Type                  46898 non-null  object         \n",
            " 6   Descriptor                      46238 non-null  object         \n",
            " 7   Location Type                   46898 non-null  object         \n",
            " 8   Incident Zip                    46596 non-null  float64        \n",
            " 9   Incident Address                41461 non-null  object         \n",
            " 10  Address Type                    46553 non-null  object         \n",
            " 11  City                            46595 non-null  object         \n",
            " 12  Facility Type                   46642 non-null  object         \n",
            " 13  Status                          46897 non-null  object         \n",
            " 14  Due Date                        46897 non-null  object         \n",
            " 15  Resolution Description          46897 non-null  object         \n",
            " 16  Resolution Action Updated Date  46642 non-null  object         \n",
            " 17  Borough                         46897 non-null  object         \n",
            " 18  Latitude                        46498 non-null  float64        \n",
            " 19  Longitude                       46498 non-null  float64        \n",
            " 20  Location                        46498 non-null  object         \n",
            " 21  Request Closing Time            46638 non-null  timedelta64[ns]\n",
            "dtypes: datetime64[ns](1), float64(3), int64(1), object(16), timedelta64[ns](1)\n",
            "memory usage: 7.9+ MB\n"
          ]
        }
      ]
    },
    {
      "cell_type": "code",
      "source": [
        "dataset.drop(['Created Date','Closed Date'],axis = 1 , inplace = True)"
      ],
      "metadata": {
        "id": "UP9trT1r-y2i"
      },
      "execution_count": 38,
      "outputs": []
    },
    {
      "cell_type": "code",
      "source": [
        "dataset.info()"
      ],
      "metadata": {
        "colab": {
          "base_uri": "https://localhost:8080/"
        },
        "id": "kCCBQ0Bg2GJJ",
        "outputId": "19ec60e8-35c7-4379-bd91-255039f91129"
      },
      "execution_count": 40,
      "outputs": [
        {
          "output_type": "stream",
          "name": "stdout",
          "text": [
            "<class 'pandas.core.frame.DataFrame'>\n",
            "RangeIndex: 46898 entries, 0 to 46897\n",
            "Data columns (total 20 columns):\n",
            " #   Column                          Non-Null Count  Dtype          \n",
            "---  ------                          --------------  -----          \n",
            " 0   Unique Key                      46898 non-null  int64          \n",
            " 1   Agency                          46898 non-null  object         \n",
            " 2   Agency Name                     46898 non-null  object         \n",
            " 3   Complaint Type                  46898 non-null  object         \n",
            " 4   Descriptor                      46238 non-null  object         \n",
            " 5   Location Type                   46898 non-null  object         \n",
            " 6   Incident Zip                    46596 non-null  float64        \n",
            " 7   Incident Address                41461 non-null  object         \n",
            " 8   Address Type                    46553 non-null  object         \n",
            " 9   City                            46595 non-null  object         \n",
            " 10  Facility Type                   46642 non-null  object         \n",
            " 11  Status                          46897 non-null  object         \n",
            " 12  Due Date                        46897 non-null  object         \n",
            " 13  Resolution Description          46897 non-null  object         \n",
            " 14  Resolution Action Updated Date  46642 non-null  object         \n",
            " 15  Borough                         46897 non-null  object         \n",
            " 16  Latitude                        46498 non-null  float64        \n",
            " 17  Longitude                       46498 non-null  float64        \n",
            " 18  Location                        46498 non-null  object         \n",
            " 19  Request Closing Time            46638 non-null  timedelta64[ns]\n",
            "dtypes: float64(3), int64(1), object(15), timedelta64[ns](1)\n",
            "memory usage: 7.2+ MB\n"
          ]
        }
      ]
    },
    {
      "cell_type": "code",
      "source": [
        "dataset.isna().sum()"
      ],
      "metadata": {
        "colab": {
          "base_uri": "https://localhost:8080/"
        },
        "id": "FDAQt6jo2WCw",
        "outputId": "94fea0ea-2296-4f7a-f3d7-3eaff7828602"
      },
      "execution_count": 41,
      "outputs": [
        {
          "output_type": "execute_result",
          "data": {
            "text/plain": [
              "Unique Key                           0\n",
              "Agency                               0\n",
              "Agency Name                          0\n",
              "Complaint Type                       0\n",
              "Descriptor                         660\n",
              "Location Type                        0\n",
              "Incident Zip                       302\n",
              "Incident Address                  5437\n",
              "Address Type                       345\n",
              "City                               303\n",
              "Facility Type                      256\n",
              "Status                               1\n",
              "Due Date                             1\n",
              "Resolution Description               1\n",
              "Resolution Action Updated Date     256\n",
              "Borough                              1\n",
              "Latitude                           400\n",
              "Longitude                          400\n",
              "Location                           400\n",
              "Request Closing Time               260\n",
              "dtype: int64"
            ]
          },
          "metadata": {},
          "execution_count": 41
        }
      ]
    },
    {
      "cell_type": "code",
      "source": [
        "dataset['Agency'].value_counts()\n",
        "dataset['Agency Name'].value_counts()\n",
        "sns.countplot(dataset['Agency Name'])"
      ],
      "metadata": {
        "colab": {
          "base_uri": "https://localhost:8080/",
          "height": 420
        },
        "id": "UwzwZFJM2cDL",
        "outputId": "fe26e342-28ab-462c-d67c-9ca0b45bbbb3"
      },
      "execution_count": 44,
      "outputs": [
        {
          "output_type": "execute_result",
          "data": {
            "text/plain": [
              "NYPD    46898\n",
              "Name: Agency, dtype: int64"
            ]
          },
          "metadata": {},
          "execution_count": 44
        },
        {
          "output_type": "execute_result",
          "data": {
            "text/plain": [
              "New York City Police Department    46897\n",
              "NYPD                                   1\n",
              "Name: Agency Name, dtype: int64"
            ]
          },
          "metadata": {},
          "execution_count": 44
        },
        {
          "output_type": "stream",
          "name": "stderr",
          "text": [
            "/usr/local/lib/python3.8/dist-packages/seaborn/_decorators.py:36: FutureWarning: Pass the following variable as a keyword arg: x. From version 0.12, the only valid positional argument will be `data`, and passing other arguments without an explicit keyword will result in an error or misinterpretation.\n",
            "  warnings.warn(\n"
          ]
        },
        {
          "output_type": "execute_result",
          "data": {
            "text/plain": [
              "<matplotlib.axes._subplots.AxesSubplot at 0x7efec25a12e0>"
            ]
          },
          "metadata": {},
          "execution_count": 44
        },
        {
          "output_type": "display_data",
          "data": {
            "text/plain": [
              "<Figure size 432x288 with 1 Axes>"
            ],
            "image/png": "[encoded data removed]"
          },
          "metadata": {
            "needs_background": "light"
          }
        }
      ]
    },
    {
      "cell_type": "code",
      "source": [
        "dataset.isna().sum()"
      ],
      "metadata": {
        "colab": {
          "base_uri": "https://localhost:8080/"
        },
        "id": "lcAmR6rH2yFC",
        "outputId": "8bc95591-bda6-40fa-eb89-603437b62595"
      },
      "execution_count": 45,
      "outputs": [
        {
          "output_type": "execute_result",
          "data": {
            "text/plain": [
              "Unique Key                           0\n",
              "Agency                               0\n",
              "Agency Name                          0\n",
              "Complaint Type                       0\n",
              "Descriptor                         660\n",
              "Location Type                        0\n",
              "Incident Zip                       302\n",
              "Incident Address                  5437\n",
              "Address Type                       345\n",
              "City                               303\n",
              "Facility Type                      256\n",
              "Status                               1\n",
              "Due Date                             1\n",
              "Resolution Description               1\n",
              "Resolution Action Updated Date     256\n",
              "Borough                              1\n",
              "Latitude                           400\n",
              "Longitude                          400\n",
              "Location                           400\n",
              "Request Closing Time               260\n",
              "dtype: int64"
            ]
          },
          "metadata": {},
          "execution_count": 45
        }
      ]
    },
    {
      "cell_type": "code",
      "source": [
        "dataset['Complaint Type'].value_counts().head()\n",
        "plot=sns.countplot(dataset['Complaint Type'])\n",
        "plot.set_xticklabels(plot.get_xticklabels(),rotation=90)"
      ],
      "metadata": {
        "colab": {
          "base_uri": "https://localhost:8080/",
          "height": 901
        },
        "id": "-QdJU-lX3KOM",
        "outputId": "f25794db-c444-4387-ff12-c2d220c05f9c"
      },
      "execution_count": 49,
      "outputs": [
        {
          "output_type": "execute_result",
          "data": {
            "text/plain": [
              "Blocked Driveway           14821\n",
              "Illegal Parking            13482\n",
              "Noise - Commercial          6195\n",
              "Noise - Street/Sidewalk     4038\n",
              "Derelict Vehicle            2817\n",
              "Name: Complaint Type, dtype: int64"
            ]
          },
          "metadata": {},
          "execution_count": 49
        },
        {
          "output_type": "stream",
          "name": "stderr",
          "text": [
            "/usr/local/lib/python3.8/dist-packages/seaborn/_decorators.py:36: FutureWarning: Pass the following variable as a keyword arg: x. From version 0.12, the only valid positional argument will be `data`, and passing other arguments without an explicit keyword will result in an error or misinterpretation.\n",
            "  warnings.warn(\n"
          ]
        },
        {
          "output_type": "execute_result",
          "data": {
            "text/plain": [
              "[Text(0, 0, 'Noise - Street/Sidewalk'),\n",
              " Text(0, 0, 'Blocked Driveway'),\n",
              " Text(0, 0, 'Illegal Parking'),\n",
              " Text(0, 0, 'Derelict Vehicle'),\n",
              " Text(0, 0, 'Noise - Commercial'),\n",
              " Text(0, 0, 'Noise - House of Worship'),\n",
              " Text(0, 0, 'Posting Advertisement'),\n",
              " Text(0, 0, 'Noise - Vehicle'),\n",
              " Text(0, 0, 'Animal Abuse'),\n",
              " Text(0, 0, 'Vending'),\n",
              " Text(0, 0, 'Traffic'),\n",
              " Text(0, 0, 'Drinking'),\n",
              " Text(0, 0, 'Bike/Roller/Skate Chronic'),\n",
              " Text(0, 0, 'Panhandling'),\n",
              " Text(0, 0, 'Noise - Park'),\n",
              " Text(0, 0, 'Homeless Encampment'),\n",
              " Text(0, 0, 'Urinating in Public'),\n",
              " Text(0, 0, 'Graffiti'),\n",
              " Text(0, 0, 'Disorderly Youth'),\n",
              " Text(0, 0, 'Illegal Fireworks')]"
            ]
          },
          "metadata": {},
          "execution_count": 49
        },
        {
          "output_type": "display_data",
          "data": {
            "text/plain": [
              "<Figure size 432x288 with 1 Axes>"
            ],
            "image/png": "[encoded data removed]"
          },
          "metadata": {
            "needs_background": "light"
          }
        }
      ]
    },
    {
      "cell_type": "code",
      "source": [
        "dataset['Descriptor'].isna().sum()"
      ],
      "metadata": {
        "colab": {
          "base_uri": "https://localhost:8080/"
        },
        "id": "gox4dapg3oj0",
        "outputId": "77db253f-49fd-4c70-dfa1-72bf730ef4df"
      },
      "execution_count": 51,
      "outputs": [
        {
          "output_type": "execute_result",
          "data": {
            "text/plain": [
              "660"
            ]
          },
          "metadata": {},
          "execution_count": 51
        }
      ]
    },
    {
      "cell_type": "code",
      "source": [
        "dataset['Descriptor'].describe()"
      ],
      "metadata": {
        "colab": {
          "base_uri": "https://localhost:8080/"
        },
        "id": "fmXUjoTt4GwL",
        "outputId": "24f60b42-cdcc-4d19-b0fd-6024ff799fb6"
      },
      "execution_count": 53,
      "outputs": [
        {
          "output_type": "execute_result",
          "data": {
            "text/plain": [
              "count         46238\n",
              "unique           39\n",
              "top       No Access\n",
              "freq          11122\n",
              "Name: Descriptor, dtype: object"
            ]
          },
          "metadata": {},
          "execution_count": 53
        }
      ]
    },
    {
      "cell_type": "code",
      "source": [
        "dataset['Descriptor'].value_counts().head()"
      ],
      "metadata": {
        "colab": {
          "base_uri": "https://localhost:8080/"
        },
        "id": "5WHHT2Fl4OVV",
        "outputId": "edd15a1b-3de9-4bb6-cd70-a3b40d256afc"
      },
      "execution_count": 55,
      "outputs": [
        {
          "output_type": "execute_result",
          "data": {
            "text/plain": [
              "No Access                        11122\n",
              "Loud Music/Party                  6915\n",
              "Posted Parking Sign Violation     4018\n",
              "Partial Access                    3699\n",
              "Blocked Hydrant                   3112\n",
              "Name: Descriptor, dtype: int64"
            ]
          },
          "metadata": {},
          "execution_count": 55
        }
      ]
    },
    {
      "cell_type": "code",
      "source": [
        "dataset['Descriptor'].fillna(value='No Access',inplace=True)"
      ],
      "metadata": {
        "id": "HYi_3WmP4Zlz"
      },
      "execution_count": 61,
      "outputs": []
    },
    {
      "cell_type": "code",
      "source": [
        "dataset['Descriptor'].isna().sum()"
      ],
      "metadata": {
        "colab": {
          "base_uri": "https://localhost:8080/"
        },
        "id": "iPE_tzXL5MQf",
        "outputId": "0d0e09b5-8496-4622-a485-c8d33434d0c3"
      },
      "execution_count": 62,
      "outputs": [
        {
          "output_type": "execute_result",
          "data": {
            "text/plain": [
              "0"
            ]
          },
          "metadata": {},
          "execution_count": 62
        }
      ]
    },
    {
      "cell_type": "code",
      "source": [
        "# Type of Complaints \n",
        "plot1 =sns.countplot(dataset['Descriptor'])\n",
        "plot1.set_xticklabels(plot.get_xticklabels(),rotation=90)"
      ],
      "metadata": {
        "colab": {
          "base_uri": "https://localhost:8080/",
          "height": 797
        },
        "id": "wpt6TyLe5R9d",
        "outputId": "714ecdbe-37bc-4adc-9ee3-776eff975e4d"
      },
      "execution_count": 64,
      "outputs": [
        {
          "output_type": "stream",
          "name": "stderr",
          "text": [
            "/usr/local/lib/python3.8/dist-packages/seaborn/_decorators.py:36: FutureWarning: Pass the following variable as a keyword arg: x. From version 0.12, the only valid positional argument will be `data`, and passing other arguments without an explicit keyword will result in an error or misinterpretation.\n",
            "  warnings.warn(\n"
          ]
        },
        {
          "output_type": "execute_result",
          "data": {
            "text/plain": [
              "[Text(0, 0, 'Noise - Street/Sidewalk'),\n",
              " Text(0, 0, 'Blocked Driveway'),\n",
              " Text(0, 0, 'Illegal Parking'),\n",
              " Text(0, 0, 'Derelict Vehicle'),\n",
              " Text(0, 0, 'Noise - Commercial'),\n",
              " Text(0, 0, 'Noise - House of Worship'),\n",
              " Text(0, 0, 'Posting Advertisement'),\n",
              " Text(0, 0, 'Noise - Vehicle'),\n",
              " Text(0, 0, 'Animal Abuse'),\n",
              " Text(0, 0, 'Vending'),\n",
              " Text(0, 0, 'Traffic'),\n",
              " Text(0, 0, 'Drinking'),\n",
              " Text(0, 0, 'Bike/Roller/Skate Chronic'),\n",
              " Text(0, 0, 'Panhandling'),\n",
              " Text(0, 0, 'Noise - Park'),\n",
              " Text(0, 0, 'Homeless Encampment'),\n",
              " Text(0, 0, 'Urinating in Public'),\n",
              " Text(0, 0, 'Graffiti'),\n",
              " Text(0, 0, 'Disorderly Youth'),\n",
              " Text(0, 0, 'Illegal Fireworks')]"
            ]
          },
          "metadata": {},
          "execution_count": 64
        },
        {
          "output_type": "display_data",
          "data": {
            "text/plain": [
              "<Figure size 432x288 with 1 Axes>"
            ],
            "image/png": "[encoded data removed]"
          },
          "metadata": {
            "needs_background": "light"
          }
        }
      ]
    },
    {
      "cell_type": "code",
      "source": [
        "dataset['Location Type'].isna().sum()"
      ],
      "metadata": {
        "colab": {
          "base_uri": "https://localhost:8080/"
        },
        "id": "VU7pBvJB5giv",
        "outputId": "4d42a4bf-561d-404e-b3a9-7617ca0a8a6a"
      },
      "execution_count": 65,
      "outputs": [
        {
          "output_type": "execute_result",
          "data": {
            "text/plain": [
              "0"
            ]
          },
          "metadata": {},
          "execution_count": 65
        }
      ]
    },
    {
      "cell_type": "code",
      "source": [
        "plot2=sns.countplot(dataset['Location Type'])\n",
        "plot2.set_xticklabels(plot2.get_xticklabels(),rotation=90)"
      ],
      "metadata": {
        "colab": {
          "base_uri": "https://localhost:8080/",
          "height": 701
        },
        "id": "JXO6lCmt6qsR",
        "outputId": "23b80dbe-32cc-45a3-88d3-54c48f43b379"
      },
      "execution_count": 66,
      "outputs": [
        {
          "output_type": "stream",
          "name": "stderr",
          "text": [
            "/usr/local/lib/python3.8/dist-packages/seaborn/_decorators.py:36: FutureWarning: Pass the following variable as a keyword arg: x. From version 0.12, the only valid positional argument will be `data`, and passing other arguments without an explicit keyword will result in an error or misinterpretation.\n",
            "  warnings.warn(\n"
          ]
        },
        {
          "output_type": "execute_result",
          "data": {
            "text/plain": [
              "[Text(0, 0, 'Street/Sidewalk'),\n",
              " Text(0, 0, 'Club/Bar/Restaurant'),\n",
              " Text(0, 0, 'Store/Commercial'),\n",
              " Text(0, 0, 'House of Worship'),\n",
              " Text(0, 0, 'Residential Building/House'),\n",
              " Text(0, 0, 'Residential Building'),\n",
              " Text(0, 0, 'Park/Playground'),\n",
              " Text(0, 0, 'Vacant Lot'),\n",
              " Text(0, 0, 'House and Store'),\n",
              " Text(0, 0, 'Highway'),\n",
              " Text(0, 0, 'Commercial'),\n",
              " Text(0, 0, 'Roadway Tunnel'),\n",
              " Text(0, 0, 'Subway Station'),\n",
              " Text(0, 0, 'Parking Lot')]"
            ]
          },
          "metadata": {},
          "execution_count": 66
        },
        {
          "output_type": "display_data",
          "data": {
            "text/plain": [
              "<Figure size 432x288 with 1 Axes>"
            ],
            "image/png": "[encoded data removed]"
          },
          "metadata": {
            "needs_background": "light"
          }
        }
      ]
    },
    {
      "cell_type": "code",
      "source": [
        "dataset.isna().sum()"
      ],
      "metadata": {
        "colab": {
          "base_uri": "https://localhost:8080/"
        },
        "id": "Vbo2V0Sv7Dz9",
        "outputId": "4075ae95-34b7-4143-c8ce-fa3f6bb50bd6"
      },
      "execution_count": 67,
      "outputs": [
        {
          "output_type": "execute_result",
          "data": {
            "text/plain": [
              "Unique Key                           0\n",
              "Agency                               0\n",
              "Agency Name                          0\n",
              "Complaint Type                       0\n",
              "Descriptor                           0\n",
              "Location Type                        0\n",
              "Incident Zip                       302\n",
              "Incident Address                  5437\n",
              "Address Type                       345\n",
              "City                               303\n",
              "Facility Type                      256\n",
              "Status                               1\n",
              "Due Date                             1\n",
              "Resolution Description               1\n",
              "Resolution Action Updated Date     256\n",
              "Borough                              1\n",
              "Latitude                           400\n",
              "Longitude                          400\n",
              "Location                           400\n",
              "Request Closing Time               260\n",
              "dtype: int64"
            ]
          },
          "metadata": {},
          "execution_count": 67
        }
      ]
    },
    {
      "cell_type": "code",
      "source": [
        "dataset['Incident Zip'].isna().sum()"
      ],
      "metadata": {
        "colab": {
          "base_uri": "https://localhost:8080/"
        },
        "id": "0v0yzFcw7H6X",
        "outputId": "cdb8488d-6cbc-4b63-ac0b-8c6d2da9735c"
      },
      "execution_count": 68,
      "outputs": [
        {
          "output_type": "execute_result",
          "data": {
            "text/plain": [
              "302"
            ]
          },
          "metadata": {},
          "execution_count": 68
        }
      ]
    },
    {
      "cell_type": "code",
      "source": [
        "dataset['Incident Zip'].value_counts().head()"
      ],
      "metadata": {
        "colab": {
          "base_uri": "https://localhost:8080/"
        },
        "id": "L58wxgGw7SnP",
        "outputId": "ecc30ebc-b530-4046-f4b7-ae71036b1ff2"
      },
      "execution_count": 69,
      "outputs": [
        {
          "output_type": "execute_result",
          "data": {
            "text/plain": [
              "11385.0    968\n",
              "11368.0    767\n",
              "11234.0    653\n",
              "11230.0    647\n",
              "11209.0    647\n",
              "Name: Incident Zip, dtype: int64"
            ]
          },
          "metadata": {},
          "execution_count": 69
        }
      ]
    },
    {
      "cell_type": "code",
      "source": [
        "dataset['Incident Zip'].fillna(value=11385,inplace=True)"
      ],
      "metadata": {
        "id": "S5cfk5Bv7aCS"
      },
      "execution_count": 71,
      "outputs": []
    },
    {
      "cell_type": "code",
      "source": [
        "dataset['Incident Zip'].isna().sum()"
      ],
      "metadata": {
        "colab": {
          "base_uri": "https://localhost:8080/"
        },
        "id": "exyLWgbp7qgD",
        "outputId": "46040276-0510-4098-a3d6-14adfe9c0fff"
      },
      "execution_count": 72,
      "outputs": [
        {
          "output_type": "execute_result",
          "data": {
            "text/plain": [
              "0"
            ]
          },
          "metadata": {},
          "execution_count": 72
        }
      ]
    },
    {
      "cell_type": "code",
      "source": [
        "dataset.isna().sum()"
      ],
      "metadata": {
        "colab": {
          "base_uri": "https://localhost:8080/"
        },
        "id": "h5S03ael7x50",
        "outputId": "d6e5adf8-e313-4a8b-fdad-bcc0b28dfa15"
      },
      "execution_count": 73,
      "outputs": [
        {
          "output_type": "execute_result",
          "data": {
            "text/plain": [
              "Unique Key                           0\n",
              "Agency                               0\n",
              "Agency Name                          0\n",
              "Complaint Type                       0\n",
              "Descriptor                           0\n",
              "Location Type                        0\n",
              "Incident Zip                         0\n",
              "Incident Address                  5437\n",
              "Address Type                       345\n",
              "City                               303\n",
              "Facility Type                      256\n",
              "Status                               1\n",
              "Due Date                             1\n",
              "Resolution Description               1\n",
              "Resolution Action Updated Date     256\n",
              "Borough                              1\n",
              "Latitude                           400\n",
              "Longitude                          400\n",
              "Location                           400\n",
              "Request Closing Time               260\n",
              "dtype: int64"
            ]
          },
          "metadata": {},
          "execution_count": 73
        }
      ]
    },
    {
      "cell_type": "code",
      "source": [
        "dataset['Incident Address'].value_counts().head()"
      ],
      "metadata": {
        "colab": {
          "base_uri": "https://localhost:8080/"
        },
        "id": "gA0OKnP67094",
        "outputId": "546b8339-d44f-4cb1-af3d-1a5632a3de2f"
      },
      "execution_count": 74,
      "outputs": [
        {
          "output_type": "execute_result",
          "data": {
            "text/plain": [
              "1207 BEACH AVENUE          244\n",
              "78-15 PARSONS BOULEVARD    187\n",
              "514 WEST 44 STREET         166\n",
              "177 LAREDO AVENUE          116\n",
              "95 HALSEY STREET           105\n",
              "Name: Incident Address, dtype: int64"
            ]
          },
          "metadata": {},
          "execution_count": 74
        }
      ]
    },
    {
      "cell_type": "code",
      "source": [
        "dataset.drop(['Incident Address'],axis =1 , inplace = True)"
      ],
      "metadata": {
        "id": "RG_v2BWM7_JN"
      },
      "execution_count": 78,
      "outputs": []
    },
    {
      "cell_type": "code",
      "source": [
        "dataset['Address Type'].value_counts().head()"
      ],
      "metadata": {
        "colab": {
          "base_uri": "https://localhost:8080/"
        },
        "id": "AjbFCbQX8Jpq",
        "outputId": "f61009c2-c77d-438b-be4c-58f2e5b71319"
      },
      "execution_count": 79,
      "outputs": [
        {
          "output_type": "execute_result",
          "data": {
            "text/plain": [
              "ADDRESS         39211\n",
              "INTERSECTION     5326\n",
              "BLOCKFACE        1478\n",
              "LATLONG           513\n",
              "PLACENAME          25\n",
              "Name: Address Type, dtype: int64"
            ]
          },
          "metadata": {},
          "execution_count": 79
        }
      ]
    },
    {
      "cell_type": "code",
      "source": [
        "dataset['Address Type'].fillna(value='Address', inplace = True)"
      ],
      "metadata": {
        "id": "XICf_0M88gIJ"
      },
      "execution_count": 80,
      "outputs": []
    },
    {
      "cell_type": "code",
      "source": [
        "dataset.isna().sum()"
      ],
      "metadata": {
        "colab": {
          "base_uri": "https://localhost:8080/"
        },
        "id": "t4N5pBOa8sOq",
        "outputId": "6d699316-939a-49b1-835d-9baeedb57d51"
      },
      "execution_count": 81,
      "outputs": [
        {
          "output_type": "execute_result",
          "data": {
            "text/plain": [
              "Unique Key                          0\n",
              "Agency                              0\n",
              "Agency Name                         0\n",
              "Complaint Type                      0\n",
              "Descriptor                          0\n",
              "Location Type                       0\n",
              "Incident Zip                        0\n",
              "Address Type                        0\n",
              "City                              303\n",
              "Facility Type                     256\n",
              "Status                              1\n",
              "Due Date                            1\n",
              "Resolution Description              1\n",
              "Resolution Action Updated Date    256\n",
              "Borough                             1\n",
              "Latitude                          400\n",
              "Longitude                         400\n",
              "Location                          400\n",
              "Request Closing Time              260\n",
              "dtype: int64"
            ]
          },
          "metadata": {},
          "execution_count": 81
        }
      ]
    },
    {
      "cell_type": "code",
      "source": [
        "sns.countplot(dataset['Address Type'])"
      ],
      "metadata": {
        "colab": {
          "base_uri": "https://localhost:8080/",
          "height": 351
        },
        "id": "yDqENrW58w3J",
        "outputId": "c8b1081f-468f-4d4a-dab1-82a8b9eee011"
      },
      "execution_count": 82,
      "outputs": [
        {
          "output_type": "stream",
          "name": "stderr",
          "text": [
            "/usr/local/lib/python3.8/dist-packages/seaborn/_decorators.py:36: FutureWarning: Pass the following variable as a keyword arg: x. From version 0.12, the only valid positional argument will be `data`, and passing other arguments without an explicit keyword will result in an error or misinterpretation.\n",
            "  warnings.warn(\n"
          ]
        },
        {
          "output_type": "execute_result",
          "data": {
            "text/plain": [
              "<matplotlib.axes._subplots.AxesSubplot at 0x7efebfb27f40>"
            ]
          },
          "metadata": {},
          "execution_count": 82
        },
        {
          "output_type": "display_data",
          "data": {
            "text/plain": [
              "<Figure size 432x288 with 1 Axes>"
            ],
            "image/png": "[encoded data removed]"
          },
          "metadata": {
            "needs_background": "light"
          }
        }
      ]
    },
    {
      "cell_type": "code",
      "source": [
        "dataset.columns"
      ],
      "metadata": {
        "colab": {
          "base_uri": "https://localhost:8080/"
        },
        "id": "yxBtUk1n9CTp",
        "outputId": "012a5a00-165f-4df1-dea5-5fd1c36b8d00"
      },
      "execution_count": 85,
      "outputs": [
        {
          "output_type": "execute_result",
          "data": {
            "text/plain": [
              "Index(['Unique Key', 'Agency', 'Agency Name', 'Complaint Type', 'Descriptor',\n",
              "       'Location Type', 'Incident Zip', 'Address Type', 'City',\n",
              "       'Facility Type', 'Status', 'Due Date', 'Resolution Description',\n",
              "       'Resolution Action Updated Date', 'Borough', 'Latitude', 'Longitude',\n",
              "       'Location', 'Request Closing Time'],\n",
              "      dtype='object')"
            ]
          },
          "metadata": {},
          "execution_count": 85
        }
      ]
    },
    {
      "cell_type": "code",
      "source": [
        "dataset.drop(['Latitude', 'Longitude','Location','Resolution Description','Resolution Action Updated Date'],axis=1,inplace=True)\n",
        "       "
      ],
      "metadata": {
        "id": "okpGLYi-9M3A"
      },
      "execution_count": 87,
      "outputs": []
    },
    {
      "cell_type": "code",
      "source": [
        "dataset.isna().sum()"
      ],
      "metadata": {
        "colab": {
          "base_uri": "https://localhost:8080/"
        },
        "id": "_cNiuL0w9pMV",
        "outputId": "ded2c490-bd30-430c-fd79-9fdd9e358f44"
      },
      "execution_count": 88,
      "outputs": [
        {
          "output_type": "execute_result",
          "data": {
            "text/plain": [
              "Unique Key                0\n",
              "Agency                    0\n",
              "Agency Name               0\n",
              "Complaint Type            0\n",
              "Descriptor                0\n",
              "Location Type             0\n",
              "Incident Zip              0\n",
              "Address Type              0\n",
              "City                    303\n",
              "Facility Type           256\n",
              "Status                    1\n",
              "Due Date                  1\n",
              "Borough                   1\n",
              "Request Closing Time    260\n",
              "dtype: int64"
            ]
          },
          "metadata": {},
          "execution_count": 88
        }
      ]
    },
    {
      "cell_type": "code",
      "source": [
        "dataset['City'].value_counts().head()"
      ],
      "metadata": {
        "colab": {
          "base_uri": "https://localhost:8080/"
        },
        "id": "uZTTJjx39wYJ",
        "outputId": "8f5dac82-f9e5-42c3-c8f0-e262eef705ea"
      },
      "execution_count": 90,
      "outputs": [
        {
          "output_type": "execute_result",
          "data": {
            "text/plain": [
              "BROOKLYN         15971\n",
              "NEW YORK          9447\n",
              "BRONX             5763\n",
              "STATEN ISLAND     2172\n",
              "FLUSHING          1144\n",
              "Name: City, dtype: int64"
            ]
          },
          "metadata": {},
          "execution_count": 90
        }
      ]
    },
    {
      "cell_type": "code",
      "source": [
        "dataset['City'].fillna(value= 'BROOKLYN',inplace = True)\n",
        "plot4=sns.countplot(x=dataset['City'])\n",
        "plot4.set_xticklabels(plot4.get_xticklabels(),rotation=90)\n"
      ],
      "metadata": {
        "colab": {
          "base_uri": "https://localhost:8080/",
          "height": 1000
        },
        "id": "9Zi_Dea497lM",
        "outputId": "03690312-a818-42f3-a00f-44ccff7a7069"
      },
      "execution_count": 98,
      "outputs": [
        {
          "output_type": "execute_result",
          "data": {
            "text/plain": [
              "[Text(0, 0, 'NEW YORK'),\n",
              " Text(0, 0, 'ASTORIA'),\n",
              " Text(0, 0, 'BRONX'),\n",
              " Text(0, 0, 'ELMHURST'),\n",
              " Text(0, 0, 'BROOKLYN'),\n",
              " Text(0, 0, 'KEW GARDENS'),\n",
              " Text(0, 0, 'JACKSON HEIGHTS'),\n",
              " Text(0, 0, 'MIDDLE VILLAGE'),\n",
              " Text(0, 0, 'REGO PARK'),\n",
              " Text(0, 0, 'SAINT ALBANS'),\n",
              " Text(0, 0, 'JAMAICA'),\n",
              " Text(0, 0, 'SOUTH RICHMOND HILL'),\n",
              " Text(0, 0, 'RIDGEWOOD'),\n",
              " Text(0, 0, 'HOWARD BEACH'),\n",
              " Text(0, 0, 'FOREST HILLS'),\n",
              " Text(0, 0, 'STATEN ISLAND'),\n",
              " Text(0, 0, 'OZONE PARK'),\n",
              " Text(0, 0, 'RICHMOND HILL'),\n",
              " Text(0, 0, 'WOODHAVEN'),\n",
              " Text(0, 0, 'FLUSHING'),\n",
              " Text(0, 0, 'CORONA'),\n",
              " Text(0, 0, 'QUEENS VILLAGE'),\n",
              " Text(0, 0, 'OAKLAND GARDENS'),\n",
              " Text(0, 0, 'HOLLIS'),\n",
              " Text(0, 0, 'MASPETH'),\n",
              " Text(0, 0, 'EAST ELMHURST'),\n",
              " Text(0, 0, 'SOUTH OZONE PARK'),\n",
              " Text(0, 0, 'WOODSIDE'),\n",
              " Text(0, 0, 'FRESH MEADOWS'),\n",
              " Text(0, 0, 'LONG ISLAND CITY'),\n",
              " Text(0, 0, 'ROCKAWAY PARK'),\n",
              " Text(0, 0, 'SPRINGFIELD GARDENS'),\n",
              " Text(0, 0, 'COLLEGE POINT'),\n",
              " Text(0, 0, 'BAYSIDE'),\n",
              " Text(0, 0, 'GLEN OAKS'),\n",
              " Text(0, 0, 'FAR ROCKAWAY'),\n",
              " Text(0, 0, 'BELLEROSE'),\n",
              " Text(0, 0, 'LITTLE NECK'),\n",
              " Text(0, 0, 'CAMBRIA HEIGHTS'),\n",
              " Text(0, 0, 'ROSEDALE'),\n",
              " Text(0, 0, 'SUNNYSIDE'),\n",
              " Text(0, 0, 'WHITESTONE'),\n",
              " Text(0, 0, 'ARVERNE'),\n",
              " Text(0, 0, 'FLORAL PARK'),\n",
              " Text(0, 0, 'NEW HYDE PARK'),\n",
              " Text(0, 0, 'CENTRAL PARK'),\n",
              " Text(0, 0, 'BREEZY POINT'),\n",
              " Text(0, 0, 'QUEENS')]"
            ]
          },
          "metadata": {},
          "execution_count": 98
        },
        {
          "output_type": "display_data",
          "data": {
            "text/plain": [
              "<Figure size 432x288 with 1 Axes>"
            ],
            "image/png": "[encoded data removed]"
          },
          "metadata": {
            "needs_background": "light"
          }
        }
      ]
    },
    {
      "cell_type": "code",
      "source": [
        "dataset.isna().sum()"
      ],
      "metadata": {
        "colab": {
          "base_uri": "https://localhost:8080/"
        },
        "id": "zXQSYmPD-JII",
        "outputId": "82879694-52d0-49dc-9907-bbb6d47addfd"
      },
      "execution_count": 92,
      "outputs": [
        {
          "output_type": "execute_result",
          "data": {
            "text/plain": [
              "Unique Key                0\n",
              "Agency                    0\n",
              "Agency Name               0\n",
              "Complaint Type            0\n",
              "Descriptor                0\n",
              "Location Type             0\n",
              "Incident Zip              0\n",
              "Address Type              0\n",
              "City                      0\n",
              "Facility Type           256\n",
              "Status                    1\n",
              "Due Date                  1\n",
              "Borough                   1\n",
              "Request Closing Time    260\n",
              "dtype: int64"
            ]
          },
          "metadata": {},
          "execution_count": 92
        }
      ]
    },
    {
      "cell_type": "code",
      "source": [
        "  dataset['Facility Type'].value_counts().head()"
      ],
      "metadata": {
        "colab": {
          "base_uri": "https://localhost:8080/"
        },
        "id": "G2aTLwup-Moh",
        "outputId": "8efdfad1-3943-40c7-d075-2b448db1471a"
      },
      "execution_count": 93,
      "outputs": [
        {
          "output_type": "execute_result",
          "data": {
            "text/plain": [
              "Precinct    46642\n",
              "Name: Facility Type, dtype: int64"
            ]
          },
          "metadata": {},
          "execution_count": 93
        }
      ]
    },
    {
      "cell_type": "code",
      "source": [
        "dataset['Facility Type'].fillna(value= 'Precinct',inplace = True)"
      ],
      "metadata": {
        "id": "27AeiBsc-VZF"
      },
      "execution_count": 94,
      "outputs": []
    },
    {
      "cell_type": "code",
      "source": [
        "dataset.isna().sum()"
      ],
      "metadata": {
        "colab": {
          "base_uri": "https://localhost:8080/"
        },
        "id": "IOkqiJbH-dlN",
        "outputId": "24c7cd6b-eff2-4418-ac83-144940a7fa00"
      },
      "execution_count": 95,
      "outputs": [
        {
          "output_type": "execute_result",
          "data": {
            "text/plain": [
              "Unique Key                0\n",
              "Agency                    0\n",
              "Agency Name               0\n",
              "Complaint Type            0\n",
              "Descriptor                0\n",
              "Location Type             0\n",
              "Incident Zip              0\n",
              "Address Type              0\n",
              "City                      0\n",
              "Facility Type             0\n",
              "Status                    1\n",
              "Due Date                  1\n",
              "Borough                   1\n",
              "Request Closing Time    260\n",
              "dtype: int64"
            ]
          },
          "metadata": {},
          "execution_count": 95
        }
      ]
    },
    {
      "cell_type": "code",
      "source": [
        "dataset['Request Closing Time'].fillna(value=dataset['Request Closing Time'].mean(),inplace=True)"
      ],
      "metadata": {
        "id": "9pcr7quq-iC8"
      },
      "execution_count": 99,
      "outputs": []
    },
    {
      "cell_type": "code",
      "source": [
        "dataset.isna().sum()"
      ],
      "metadata": {
        "colab": {
          "base_uri": "https://localhost:8080/"
        },
        "id": "1UFTivjp_Oby",
        "outputId": "160e3486-b476-4114-b82d-3bcc9cf77617"
      },
      "execution_count": 100,
      "outputs": [
        {
          "output_type": "execute_result",
          "data": {
            "text/plain": [
              "Unique Key              0\n",
              "Agency                  0\n",
              "Agency Name             0\n",
              "Complaint Type          0\n",
              "Descriptor              0\n",
              "Location Type           0\n",
              "Incident Zip            0\n",
              "Address Type            0\n",
              "City                    0\n",
              "Facility Type           0\n",
              "Status                  1\n",
              "Due Date                1\n",
              "Borough                 1\n",
              "Request Closing Time    0\n",
              "dtype: int64"
            ]
          },
          "metadata": {},
          "execution_count": 100
        }
      ]
    },
    {
      "cell_type": "code",
      "source": [
        "sns.countplot(dataset['Status'])"
      ],
      "metadata": {
        "colab": {
          "base_uri": "https://localhost:8080/",
          "height": 351
        },
        "id": "jMxj4z1w_QtT",
        "outputId": "efac4bb2-8cac-43d4-c389-5313f32a2958"
      },
      "execution_count": 101,
      "outputs": [
        {
          "output_type": "stream",
          "name": "stderr",
          "text": [
            "/usr/local/lib/python3.8/dist-packages/seaborn/_decorators.py:36: FutureWarning: Pass the following variable as a keyword arg: x. From version 0.12, the only valid positional argument will be `data`, and passing other arguments without an explicit keyword will result in an error or misinterpretation.\n",
            "  warnings.warn(\n"
          ]
        },
        {
          "output_type": "execute_result",
          "data": {
            "text/plain": [
              "<matplotlib.axes._subplots.AxesSubplot at 0x7efebfbb26d0>"
            ]
          },
          "metadata": {},
          "execution_count": 101
        },
        {
          "output_type": "display_data",
          "data": {
            "text/plain": [
              "<Figure size 432x288 with 1 Axes>"
            ],
            "image/png": "[encoded data removed]"
          },
          "metadata": {
            "needs_background": "light"
          }
        }
      ]
    },
    {
      "cell_type": "code",
      "source": [
        "dataset.head(2)"
      ],
      "metadata": {
        "colab": {
          "base_uri": "https://localhost:8080/",
          "height": 315
        },
        "id": "c2aLOnSK_VJt",
        "outputId": "4a61e121-3ff2-4644-8e08-95ed9ffe61f6"
      },
      "execution_count": 102,
      "outputs": [
        {
          "output_type": "execute_result",
          "data": {
            "text/plain": [
              "   Unique Key Agency                      Agency Name  \\\n",
              "0    32310363   NYPD  New York City Police Department   \n",
              "1    32309934   NYPD  New York City Police Department   \n",
              "\n",
              "            Complaint Type        Descriptor    Location Type  Incident Zip  \\\n",
              "0  Noise - Street/Sidewalk  Loud Music/Party  Street/Sidewalk       10034.0   \n",
              "1         Blocked Driveway         No Access  Street/Sidewalk       11105.0   \n",
              "\n",
              "  Address Type      City Facility Type  Status       Due Date    Borough  \\\n",
              "0      ADDRESS  NEW YORK      Precinct  Closed  01-01-16 7:59  MANHATTAN   \n",
              "1      ADDRESS   ASTORIA      Precinct  Closed  01-01-16 7:59     QUEENS   \n",
              "\n",
              "  Request Closing Time  \n",
              "0      0 days 00:55:15  \n",
              "1      0 days 01:26:16  "
            ],
            "text/html": [
              "\n",
              "  <div id=\"df-32459bd6-4dc7-4dd7-8d93-429c1abbadf2\">\n",
              "    <div class=\"colab-df-container\">\n",
              "      <div>\n",
              "<style scoped>\n",
              "    .dataframe tbody tr th:only-of-type {\n",
              "        vertical-align: middle;\n",
              "    }\n",
              "\n",
              "    .dataframe tbody tr th {\n",
              "        vertical-align: top;\n",
              "    }\n",
              "\n",
              "    .dataframe thead th {\n",
              "        text-align: right;\n",
              "    }\n",
              "</style>\n",
              "<table border=\"1\" class=\"dataframe\">\n",
              "  <thead>\n",
              "    <tr style=\"text-align: right;\">\n",
              "      <th></th>\n",
              "      <th>Unique Key</th>\n",
              "      <th>Agency</th>\n",
              "      <th>Agency Name</th>\n",
              "      <th>Complaint Type</th>\n",
              "      <th>Descriptor</th>\n",
              "      <th>Location Type</th>\n",
              "      <th>Incident Zip</th>\n",
              "      <th>Address Type</th>\n",
              "      <th>City</th>\n",
              "      <th>Facility Type</th>\n",
              "      <th>Status</th>\n",
              "      <th>Due Date</th>\n",
              "      <th>Borough</th>\n",
              "      <th>Request Closing Time</th>\n",
              "    </tr>\n",
              "  </thead>\n",
              "  <tbody>\n",
              "    <tr>\n",
              "      <th>0</th>\n",
              "      <td>32310363</td>\n",
              "      <td>NYPD</td>\n",
              "      <td>New York City Police Department</td>\n",
              "      <td>Noise - Street/Sidewalk</td>\n",
              "      <td>Loud Music/Party</td>\n",
              "      <td>Street/Sidewalk</td>\n",
              "      <td>10034.0</td>\n",
              "      <td>ADDRESS</td>\n",
              "      <td>NEW YORK</td>\n",
              "      <td>Precinct</td>\n",
              "      <td>Closed</td>\n",
              "      <td>01-01-16 7:59</td>\n",
              "      <td>MANHATTAN</td>\n",
              "      <td>0 days 00:55:15</td>\n",
              "    </tr>\n",
              "    <tr>\n",
              "      <th>1</th>\n",
              "      <td>32309934</td>\n",
              "      <td>NYPD</td>\n",
              "      <td>New York City Police Department</td>\n",
              "      <td>Blocked Driveway</td>\n",
              "      <td>No Access</td>\n",
              "      <td>Street/Sidewalk</td>\n",
              "      <td>11105.0</td>\n",
              "      <td>ADDRESS</td>\n",
              "      <td>ASTORIA</td>\n",
              "      <td>Precinct</td>\n",
              "      <td>Closed</td>\n",
              "      <td>01-01-16 7:59</td>\n",
              "      <td>QUEENS</td>\n",
              "      <td>0 days 01:26:16</td>\n",
              "    </tr>\n",
              "  </tbody>\n",
              "</table>\n",
              "</div>\n",
              "      <button class=\"colab-df-convert\" onclick=\"convertToInteractive('df-32459bd6-4dc7-4dd7-8d93-429c1abbadf2')\"\n",
              "              title=\"Convert this dataframe to an interactive table.\"\n",
              "              style=\"display:none;\">\n",
              "        \n",
              "  <svg xmlns=\"http://www.w3.org/2000/svg\" height=\"24px\"viewBox=\"0 0 24 24\"\n",
              "       width=\"24px\">\n",
              "    <path d=\"M0 0h24v24H0V0z\" fill=\"none\"/>\n",
              "    <path d=\"M18.56 5.44l.94 2.06.94-2.06 2.06-.94-2.06-.94-.94-2.06-.94 2.06-2.06.94zm-11 1L8.5 8.5l.94-2.06 2.06-.94-2.06-.94L8.5 2.5l-.94 2.06-2.06.94zm10 10l.94 2.06.94-2.06 2.06-.94-2.06-.94-.94-2.06-.94 2.06-2.06.94z\"/><path d=\"M17.41 7.96l-1.37-1.37c-.4-.4-.92-.59-1.43-.59-.52 0-1.04.2-1.43.59L10.3 9.45l-7.72 7.72c-.78.78-.78 2.05 0 2.83L4 21.41c.39.39.9.59 1.41.59.51 0 1.02-.2 1.41-.59l7.78-7.78 2.81-2.81c.8-.78.8-2.07 0-2.86zM5.41 20L4 18.59l7.72-7.72 1.47 1.35L5.41 20z\"/>\n",
              "  </svg>\n",
              "      </button>\n",
              "      \n",
              "  <style>\n",
              "    .colab-df-container {\n",
              "      display:flex;\n",
              "      flex-wrap:wrap;\n",
              "      gap: 12px;\n",
              "    }\n",
              "\n",
              "    .colab-df-convert {\n",
              "      background-color: #E8F0FE;\n",
              "      border: none;\n",
              "      border-radius: 50%;\n",
              "      cursor: pointer;\n",
              "      display: none;\n",
              "      fill: #1967D2;\n",
              "      height: 32px;\n",
              "      padding: 0 0 0 0;\n",
              "      width: 32px;\n",
              "    }\n",
              "\n",
              "    .colab-df-convert:hover {\n",
              "      background-color: #E2EBFA;\n",
              "      box-shadow: 0px 1px 2px rgba(60, 64, 67, 0.3), 0px 1px 3px 1px rgba(60, 64, 67, 0.15);\n",
              "      fill: #174EA6;\n",
              "    }\n",
              "\n",
              "    [theme=dark] .colab-df-convert {\n",
              "      background-color: #3B4455;\n",
              "      fill: #D2E3FC;\n",
              "    }\n",
              "\n",
              "    [theme=dark] .colab-df-convert:hover {\n",
              "      background-color: #434B5C;\n",
              "      box-shadow: 0px 1px 3px 1px rgba(0, 0, 0, 0.15);\n",
              "      filter: drop-shadow(0px 1px 2px rgba(0, 0, 0, 0.3));\n",
              "      fill: #FFFFFF;\n",
              "    }\n",
              "  </style>\n",
              "\n",
              "      <script>\n",
              "        const buttonEl =\n",
              "          document.querySelector('#df-32459bd6-4dc7-4dd7-8d93-429c1abbadf2 button.colab-df-convert');\n",
              "        buttonEl.style.display =\n",
              "          google.colab.kernel.accessAllowed ? 'block' : 'none';\n",
              "\n",
              "        async function convertToInteractive(key) {\n",
              "          const element = document.querySelector('#df-32459bd6-4dc7-4dd7-8d93-429c1abbadf2');\n",
              "          const dataTable =\n",
              "            await google.colab.kernel.invokeFunction('convertToInteractive',\n",
              "                                                     [key], {});\n",
              "          if (!dataTable) return;\n",
              "\n",
              "          const docLinkHtml = 'Like what you see? Visit the ' +\n",
              "            '<a target=\"_blank\" href=https://colab.research.google.com/notebooks/data_table.ipynb>data table notebook</a>'\n",
              "            + ' to learn more about interactive tables.';\n",
              "          element.innerHTML = '';\n",
              "          dataTable['output_type'] = 'display_data';\n",
              "          await google.colab.output.renderOutput(dataTable, element);\n",
              "          const docLink = document.createElement('div');\n",
              "          docLink.innerHTML = docLinkHtml;\n",
              "          element.appendChild(docLink);\n",
              "        }\n",
              "      </script>\n",
              "    </div>\n",
              "  </div>\n",
              "  "
            ]
          },
          "metadata": {},
          "execution_count": 102
        }
      ]
    },
    {
      "cell_type": "code",
      "source": [
        "dataset['Complaint Type'].value_counts().head(4)"
      ],
      "metadata": {
        "colab": {
          "base_uri": "https://localhost:8080/"
        },
        "id": "eX8pTxZ__c6N",
        "outputId": "b3f1bc9c-5217-4fc1-dfe0-f574f3066d11"
      },
      "execution_count": 103,
      "outputs": [
        {
          "output_type": "execute_result",
          "data": {
            "text/plain": [
              "Blocked Driveway           14821\n",
              "Illegal Parking            13482\n",
              "Noise - Commercial          6195\n",
              "Noise - Street/Sidewalk     4038\n",
              "Name: Complaint Type, dtype: int64"
            ]
          },
          "metadata": {},
          "execution_count": 103
        }
      ]
    },
    {
      "cell_type": "code",
      "source": [
        "desc=dataset.groupby(by='Complaint Type')['Descriptor'].agg('count')\n",
        "desc"
      ],
      "metadata": {
        "colab": {
          "base_uri": "https://localhost:8080/"
        },
        "id": "Jnf-hddv_g9S",
        "outputId": "2d81ee2a-a1ba-435e-dda6-66152f021a37"
      },
      "execution_count": 104,
      "outputs": [
        {
          "output_type": "execute_result",
          "data": {
            "text/plain": [
              "Complaint Type\n",
              "Animal Abuse                  1169\n",
              "Bike/Roller/Skate Chronic       42\n",
              "Blocked Driveway             14821\n",
              "Derelict Vehicle              2817\n",
              "Disorderly Youth                11\n",
              "Drinking                       165\n",
              "Graffiti                        12\n",
              "Homeless Encampment            524\n",
              "Illegal Fireworks                3\n",
              "Illegal Parking              13482\n",
              "Noise - Commercial            6195\n",
              "Noise - House of Worship        74\n",
              "Noise - Park                   171\n",
              "Noise - Street/Sidewalk       4038\n",
              "Noise - Vehicle               1910\n",
              "Panhandling                     46\n",
              "Posting Advertisement          241\n",
              "Traffic                        652\n",
              "Urinating in Public             45\n",
              "Vending                        480\n",
              "Name: Descriptor, dtype: int64"
            ]
          },
          "metadata": {},
          "execution_count": 104
        }
      ]
    },
    {
      "cell_type": "code",
      "source": [
        " dataset.loc[dataset['City']=='NEW YORK',]['Borough'].value_counts()      "
      ],
      "metadata": {
        "colab": {
          "base_uri": "https://localhost:8080/"
        },
        "id": "hsmgiysB_l3w",
        "outputId": "7425a62e-250c-4d2c-efff-074912799112"
      },
      "execution_count": 105,
      "outputs": [
        {
          "output_type": "execute_result",
          "data": {
            "text/plain": [
              "MANHATTAN    9447\n",
              "Name: Borough, dtype: int64"
            ]
          },
          "metadata": {},
          "execution_count": 105
        }
      ]
    },
    {
      "cell_type": "code",
      "source": [
        "sns.countplot(x=dataset.loc[dataset['City']=='NEW YORK',]['Borough'],hue='Status',data=dataset)"
      ],
      "metadata": {
        "colab": {
          "base_uri": "https://localhost:8080/",
          "height": 296
        },
        "id": "l9AHnbBV_p6H",
        "outputId": "26fbc376-80ac-4381-a6ae-01582c26fff2"
      },
      "execution_count": 106,
      "outputs": [
        {
          "output_type": "execute_result",
          "data": {
            "text/plain": [
              "<matplotlib.axes._subplots.AxesSubplot at 0x7efebf6bbb50>"
            ]
          },
          "metadata": {},
          "execution_count": 106
        },
        {
          "output_type": "display_data",
          "data": {
            "text/plain": [
              "<Figure size 432x288 with 1 Axes>"
            ],
            "image/png": "[encoded data removed]"
          },
          "metadata": {
            "needs_background": "light"
          }
        }
      ]
    },
    {
      "cell_type": "code",
      "source": [
        "dataset.loc[dataset['City']=='NEW YORK',:]['Complaint Type'].value_counts()"
      ],
      "metadata": {
        "colab": {
          "base_uri": "https://localhost:8080/"
        },
        "id": "KvNVHQN__s2K",
        "outputId": "2316ba19-be96-4e30-ed45-d28dc065206e"
      },
      "execution_count": 107,
      "outputs": [
        {
          "output_type": "execute_result",
          "data": {
            "text/plain": [
              "Noise - Commercial           2803\n",
              "Illegal Parking              2086\n",
              "Noise - Street/Sidewalk      1887\n",
              "Noise - Vehicle               820\n",
              "Blocked Driveway              362\n",
              "Homeless Encampment           346\n",
              "Vending                       293\n",
              "Traffic                       266\n",
              "Animal Abuse                  256\n",
              "Derelict Vehicle              120\n",
              "Noise - Park                   79\n",
              "Drinking                       35\n",
              "Panhandling                    30\n",
              "Noise - House of Worship       18\n",
              "Urinating in Public            18\n",
              "Bike/Roller/Skate Chronic      16\n",
              "Posting Advertisement           8\n",
              "Graffiti                        2\n",
              "Disorderly Youth                2\n",
              "Name: Complaint Type, dtype: int64"
            ]
          },
          "metadata": {},
          "execution_count": 107
        }
      ]
    },
    {
      "cell_type": "code",
      "source": [
        "plot=sns.countplot(x=dataset.loc[dataset['City']=='NEW YORK',:]['Complaint Type'])\n",
        "plot.set_xticklabels(plot.get_xticklabels(),rotation = 90)"
      ],
      "metadata": {
        "colab": {
          "base_uri": "https://localhost:8080/",
          "height": 725
        },
        "id": "3xNZYREp_z0a",
        "outputId": "dded4e7c-474c-4476-8cc6-4f04e7c22f66"
      },
      "execution_count": 108,
      "outputs": [
        {
          "output_type": "execute_result",
          "data": {
            "text/plain": [
              "[Text(0, 0, 'Noise - Street/Sidewalk'),\n",
              " Text(0, 0, 'Illegal Parking'),\n",
              " Text(0, 0, 'Noise - House of Worship'),\n",
              " Text(0, 0, 'Noise - Commercial'),\n",
              " Text(0, 0, 'Blocked Driveway'),\n",
              " Text(0, 0, 'Vending'),\n",
              " Text(0, 0, 'Noise - Vehicle'),\n",
              " Text(0, 0, 'Panhandling'),\n",
              " Text(0, 0, 'Animal Abuse'),\n",
              " Text(0, 0, 'Noise - Park'),\n",
              " Text(0, 0, 'Homeless Encampment'),\n",
              " Text(0, 0, 'Traffic'),\n",
              " Text(0, 0, 'Derelict Vehicle'),\n",
              " Text(0, 0, 'Drinking'),\n",
              " Text(0, 0, 'Urinating in Public'),\n",
              " Text(0, 0, 'Bike/Roller/Skate Chronic'),\n",
              " Text(0, 0, 'Graffiti'),\n",
              " Text(0, 0, 'Posting Advertisement'),\n",
              " Text(0, 0, 'Disorderly Youth')]"
            ]
          },
          "metadata": {},
          "execution_count": 108
        },
        {
          "output_type": "display_data",
          "data": {
            "text/plain": [
              "<Figure size 432x288 with 1 Axes>"
            ],
            "image/png": "[encoded data removed]"
          },
          "metadata": {
            "needs_background": "light"
          }
        }
      ]
    },
    {
      "cell_type": "code",
      "source": [
        "dataset['Borough'].value_counts()"
      ],
      "metadata": {
        "colab": {
          "base_uri": "https://localhost:8080/"
        },
        "id": "dPU7d-Yd_3Kd",
        "outputId": "014594ae-b1ee-4e90-c33b-ba3a6cc162e9"
      },
      "execution_count": 109,
      "outputs": [
        {
          "output_type": "execute_result",
          "data": {
            "text/plain": [
              "BROOKLYN         15972\n",
              "QUEENS           13225\n",
              "MANHATTAN         9464\n",
              "BRONX             5763\n",
              "STATEN ISLAND     2173\n",
              "Unspecified        300\n",
              "Name: Borough, dtype: int64"
            ]
          },
          "metadata": {},
          "execution_count": 109
        }
      ]
    },
    {
      "cell_type": "code",
      "source": [
        "dataset.loc[(dataset['City']=='NEW YORK')&(dataset['Status']=='Closed'),:]['Request Closing Time'].std()"
      ],
      "metadata": {
        "colab": {
          "base_uri": "https://localhost:8080/"
        },
        "id": "D_qhhsNW_71B",
        "outputId": "f11c7fb3-0c67-4e5b-d862-3e34a1476b8d"
      },
      "execution_count": 110,
      "outputs": [
        {
          "output_type": "execute_result",
          "data": {
            "text/plain": [
              "Timedelta('0 days 04:19:04.312497943')"
            ]
          },
          "metadata": {},
          "execution_count": 110
        }
      ]
    },
    {
      "cell_type": "code",
      "source": [
        "dataset['Location Type'].value_counts()"
      ],
      "metadata": {
        "colab": {
          "base_uri": "https://localhost:8080/"
        },
        "id": "Js8-pAse_9ZG",
        "outputId": "45f1b9c5-16f7-4131-e884-1dd7cc49ea85"
      },
      "execution_count": 111,
      "outputs": [
        {
          "output_type": "execute_result",
          "data": {
            "text/plain": [
              "Street/Sidewalk               38920\n",
              "Store/Commercial               3683\n",
              "Club/Bar/Restaurant            2849\n",
              "Residential Building/House      981\n",
              "Park/Playground                 231\n",
              "House of Worship                 74\n",
              "Residential Building             49\n",
              "Highway                          36\n",
              "House and Store                  21\n",
              "Parking Lot                      16\n",
              "Vacant Lot                       13\n",
              "Commercial                       12\n",
              "Roadway Tunnel                    9\n",
              "Subway Station                    4\n",
              "Name: Location Type, dtype: int64"
            ]
          },
          "metadata": {},
          "execution_count": 111
        }
      ]
    },
    {
      "cell_type": "code",
      "source": [
        "sns.countplot(dataset.loc[dataset['Location Type'].isin(['Street/Sidewalk','Store/Commercial','Club/Bar/Restaurant'])]\n",
        "              ['Location Type'],data=dataset,hue='Borough')"
      ],
      "metadata": {
        "colab": {
          "base_uri": "https://localhost:8080/",
          "height": 351
        },
        "id": "kOvq5sbR_-vU",
        "outputId": "739046f3-5d90-435d-c17e-f793541d8d79"
      },
      "execution_count": 112,
      "outputs": [
        {
          "output_type": "stream",
          "name": "stderr",
          "text": [
            "/usr/local/lib/python3.8/dist-packages/seaborn/_decorators.py:36: FutureWarning: Pass the following variable as a keyword arg: x. From version 0.12, the only valid positional argument will be `data`, and passing other arguments without an explicit keyword will result in an error or misinterpretation.\n",
            "  warnings.warn(\n"
          ]
        },
        {
          "output_type": "execute_result",
          "data": {
            "text/plain": [
              "<matplotlib.axes._subplots.AxesSubplot at 0x7efebf6b8d60>"
            ]
          },
          "metadata": {},
          "execution_count": 112
        },
        {
          "output_type": "display_data",
          "data": {
            "text/plain": [
              "<Figure size 432x288 with 1 Axes>"
            ],
            "image/png": "[encoded data removed]"
          },
          "metadata": {
            "needs_background": "light"
          }
        }
      ]
    },
    {
      "cell_type": "code",
      "source": [
        "import datetime\n",
        "dataset['year'] = pd.DatetimeIndex(dataset['Due Date']).year\n",
        "dataset.head()"
      ],
      "metadata": {
        "colab": {
          "base_uri": "https://localhost:8080/",
          "height": 565
        },
        "id": "aZSoN_6oABWf",
        "outputId": "a915ab98-8977-4c60-b9c7-248c62050812"
      },
      "execution_count": 113,
      "outputs": [
        {
          "output_type": "execute_result",
          "data": {
            "text/plain": [
              "   Unique Key Agency                      Agency Name  \\\n",
              "0    32310363   NYPD  New York City Police Department   \n",
              "1    32309934   NYPD  New York City Police Department   \n",
              "2    32309159   NYPD  New York City Police Department   \n",
              "3    32305098   NYPD  New York City Police Department   \n",
              "4    32306529   NYPD  New York City Police Department   \n",
              "\n",
              "            Complaint Type                    Descriptor    Location Type  \\\n",
              "0  Noise - Street/Sidewalk              Loud Music/Party  Street/Sidewalk   \n",
              "1         Blocked Driveway                     No Access  Street/Sidewalk   \n",
              "2         Blocked Driveway                     No Access  Street/Sidewalk   \n",
              "3          Illegal Parking  Commercial Overnight Parking  Street/Sidewalk   \n",
              "4          Illegal Parking              Blocked Sidewalk  Street/Sidewalk   \n",
              "\n",
              "   Incident Zip Address Type      City Facility Type  Status       Due Date  \\\n",
              "0       10034.0      ADDRESS  NEW YORK      Precinct  Closed  01-01-16 7:59   \n",
              "1       11105.0      ADDRESS   ASTORIA      Precinct  Closed  01-01-16 7:59   \n",
              "2       10458.0      ADDRESS     BRONX      Precinct  Closed  01-01-16 7:59   \n",
              "3       10461.0      ADDRESS     BRONX      Precinct  Closed  01-01-16 7:57   \n",
              "4       11373.0      ADDRESS  ELMHURST      Precinct  Closed  01-01-16 7:56   \n",
              "\n",
              "     Borough Request Closing Time    year  \n",
              "0  MANHATTAN      0 days 00:55:15  2016.0  \n",
              "1     QUEENS      0 days 01:26:16  2016.0  \n",
              "2      BRONX      0 days 04:51:31  2016.0  \n",
              "3      BRONX      0 days 07:45:14  2016.0  \n",
              "4     QUEENS      0 days 03:27:02  2016.0  "
            ],
            "text/html": [
              "\n",
              "  <div id=\"df-7a4e7acd-ab81-4474-a6e7-46a508674180\">\n",
              "    <div class=\"colab-df-container\">\n",
              "      <div>\n",
              "<style scoped>\n",
              "    .dataframe tbody tr th:only-of-type {\n",
              "        vertical-align: middle;\n",
              "    }\n",
              "\n",
              "    .dataframe tbody tr th {\n",
              "        vertical-align: top;\n",
              "    }\n",
              "\n",
              "    .dataframe thead th {\n",
              "        text-align: right;\n",
              "    }\n",
              "</style>\n",
              "<table border=\"1\" class=\"dataframe\">\n",
              "  <thead>\n",
              "    <tr style=\"text-align: right;\">\n",
              "      <th></th>\n",
              "      <th>Unique Key</th>\n",
              "      <th>Agency</th>\n",
              "      <th>Agency Name</th>\n",
              "      <th>Complaint Type</th>\n",
              "      <th>Descriptor</th>\n",
              "      <th>Location Type</th>\n",
              "      <th>Incident Zip</th>\n",
              "      <th>Address Type</th>\n",
              "      <th>City</th>\n",
              "      <th>Facility Type</th>\n",
              "      <th>Status</th>\n",
              "      <th>Due Date</th>\n",
              "      <th>Borough</th>\n",
              "      <th>Request Closing Time</th>\n",
              "      <th>year</th>\n",
              "    </tr>\n",
              "  </thead>\n",
              "  <tbody>\n",
              "    <tr>\n",
              "      <th>0</th>\n",
              "      <td>32310363</td>\n",
              "      <td>NYPD</td>\n",
              "      <td>New York City Police Department</td>\n",
              "      <td>Noise - Street/Sidewalk</td>\n",
              "      <td>Loud Music/Party</td>\n",
              "      <td>Street/Sidewalk</td>\n",
              "      <td>10034.0</td>\n",
              "      <td>ADDRESS</td>\n",
              "      <td>NEW YORK</td>\n",
              "      <td>Precinct</td>\n",
              "      <td>Closed</td>\n",
              "      <td>01-01-16 7:59</td>\n",
              "      <td>MANHATTAN</td>\n",
              "      <td>0 days 00:55:15</td>\n",
              "      <td>2016.0</td>\n",
              "    </tr>\n",
              "    <tr>\n",
              "      <th>1</th>\n",
              "      <td>32309934</td>\n",
              "      <td>NYPD</td>\n",
              "      <td>New York City Police Department</td>\n",
              "      <td>Blocked Driveway</td>\n",
              "      <td>No Access</td>\n",
              "      <td>Street/Sidewalk</td>\n",
              "      <td>11105.0</td>\n",
              "      <td>ADDRESS</td>\n",
              "      <td>ASTORIA</td>\n",
              "      <td>Precinct</td>\n",
              "      <td>Closed</td>\n",
              "      <td>01-01-16 7:59</td>\n",
              "      <td>QUEENS</td>\n",
              "      <td>0 days 01:26:16</td>\n",
              "      <td>2016.0</td>\n",
              "    </tr>\n",
              "    <tr>\n",
              "      <th>2</th>\n",
              "      <td>32309159</td>\n",
              "      <td>NYPD</td>\n",
              "      <td>New York City Police Department</td>\n",
              "      <td>Blocked Driveway</td>\n",
              "      <td>No Access</td>\n",
              "      <td>Street/Sidewalk</td>\n",
              "      <td>10458.0</td>\n",
              "      <td>ADDRESS</td>\n",
              "      <td>BRONX</td>\n",
              "      <td>Precinct</td>\n",
              "      <td>Closed</td>\n",
              "      <td>01-01-16 7:59</td>\n",
              "      <td>BRONX</td>\n",
              "      <td>0 days 04:51:31</td>\n",
              "      <td>2016.0</td>\n",
              "    </tr>\n",
              "    <tr>\n",
              "      <th>3</th>\n",
              "      <td>32305098</td>\n",
              "      <td>NYPD</td>\n",
              "      <td>New York City Police Department</td>\n",
              "      <td>Illegal Parking</td>\n",
              "      <td>Commercial Overnight Parking</td>\n",
              "      <td>Street/Sidewalk</td>\n",
              "      <td>10461.0</td>\n",
              "      <td>ADDRESS</td>\n",
              "      <td>BRONX</td>\n",
              "      <td>Precinct</td>\n",
              "      <td>Closed</td>\n",
              "      <td>01-01-16 7:57</td>\n",
              "      <td>BRONX</td>\n",
              "      <td>0 days 07:45:14</td>\n",
              "      <td>2016.0</td>\n",
              "    </tr>\n",
              "    <tr>\n",
              "      <th>4</th>\n",
              "      <td>32306529</td>\n",
              "      <td>NYPD</td>\n",
              "      <td>New York City Police Department</td>\n",
              "      <td>Illegal Parking</td>\n",
              "      <td>Blocked Sidewalk</td>\n",
              "      <td>Street/Sidewalk</td>\n",
              "      <td>11373.0</td>\n",
              "      <td>ADDRESS</td>\n",
              "      <td>ELMHURST</td>\n",
              "      <td>Precinct</td>\n",
              "      <td>Closed</td>\n",
              "      <td>01-01-16 7:56</td>\n",
              "      <td>QUEENS</td>\n",
              "      <td>0 days 03:27:02</td>\n",
              "      <td>2016.0</td>\n",
              "    </tr>\n",
              "  </tbody>\n",
              "</table>\n",
              "</div>\n",
              "      <button class=\"colab-df-convert\" onclick=\"convertToInteractive('df-7a4e7acd-ab81-4474-a6e7-46a508674180')\"\n",
              "              title=\"Convert this dataframe to an interactive table.\"\n",
              "              style=\"display:none;\">\n",
              "        \n",
              "  <svg xmlns=\"http://www.w3.org/2000/svg\" height=\"24px\"viewBox=\"0 0 24 24\"\n",
              "       width=\"24px\">\n",
              "    <path d=\"M0 0h24v24H0V0z\" fill=\"none\"/>\n",
              "    <path d=\"M18.56 5.44l.94 2.06.94-2.06 2.06-.94-2.06-.94-.94-2.06-.94 2.06-2.06.94zm-11 1L8.5 8.5l.94-2.06 2.06-.94-2.06-.94L8.5 2.5l-.94 2.06-2.06.94zm10 10l.94 2.06.94-2.06 2.06-.94-2.06-.94-.94-2.06-.94 2.06-2.06.94z\"/><path d=\"M17.41 7.96l-1.37-1.37c-.4-.4-.92-.59-1.43-.59-.52 0-1.04.2-1.43.59L10.3 9.45l-7.72 7.72c-.78.78-.78 2.05 0 2.83L4 21.41c.39.39.9.59 1.41.59.51 0 1.02-.2 1.41-.59l7.78-7.78 2.81-2.81c.8-.78.8-2.07 0-2.86zM5.41 20L4 18.59l7.72-7.72 1.47 1.35L5.41 20z\"/>\n",
              "  </svg>\n",
              "      </button>\n",
              "      \n",
              "  <style>\n",
              "    .colab-df-container {\n",
              "      display:flex;\n",
              "      flex-wrap:wrap;\n",
              "      gap: 12px;\n",
              "    }\n",
              "\n",
              "    .colab-df-convert {\n",
              "      background-color: #E8F0FE;\n",
              "      border: none;\n",
              "      border-radius: 50%;\n",
              "      cursor: pointer;\n",
              "      display: none;\n",
              "      fill: #1967D2;\n",
              "      height: 32px;\n",
              "      padding: 0 0 0 0;\n",
              "      width: 32px;\n",
              "    }\n",
              "\n",
              "    .colab-df-convert:hover {\n",
              "      background-color: #E2EBFA;\n",
              "      box-shadow: 0px 1px 2px rgba(60, 64, 67, 0.3), 0px 1px 3px 1px rgba(60, 64, 67, 0.15);\n",
              "      fill: #174EA6;\n",
              "    }\n",
              "\n",
              "    [theme=dark] .colab-df-convert {\n",
              "      background-color: #3B4455;\n",
              "      fill: #D2E3FC;\n",
              "    }\n",
              "\n",
              "    [theme=dark] .colab-df-convert:hover {\n",
              "      background-color: #434B5C;\n",
              "      box-shadow: 0px 1px 3px 1px rgba(0, 0, 0, 0.15);\n",
              "      filter: drop-shadow(0px 1px 2px rgba(0, 0, 0, 0.3));\n",
              "      fill: #FFFFFF;\n",
              "    }\n",
              "  </style>\n",
              "\n",
              "      <script>\n",
              "        const buttonEl =\n",
              "          document.querySelector('#df-7a4e7acd-ab81-4474-a6e7-46a508674180 button.colab-df-convert');\n",
              "        buttonEl.style.display =\n",
              "          google.colab.kernel.accessAllowed ? 'block' : 'none';\n",
              "\n",
              "        async function convertToInteractive(key) {\n",
              "          const element = document.querySelector('#df-7a4e7acd-ab81-4474-a6e7-46a508674180');\n",
              "          const dataTable =\n",
              "            await google.colab.kernel.invokeFunction('convertToInteractive',\n",
              "                                                     [key], {});\n",
              "          if (!dataTable) return;\n",
              "\n",
              "          const docLinkHtml = 'Like what you see? Visit the ' +\n",
              "            '<a target=\"_blank\" href=https://colab.research.google.com/notebooks/data_table.ipynb>data table notebook</a>'\n",
              "            + ' to learn more about interactive tables.';\n",
              "          element.innerHTML = '';\n",
              "          dataTable['output_type'] = 'display_data';\n",
              "          await google.colab.output.renderOutput(dataTable, element);\n",
              "          const docLink = document.createElement('div');\n",
              "          docLink.innerHTML = docLinkHtml;\n",
              "          element.appendChild(docLink);\n",
              "        }\n",
              "      </script>\n",
              "    </div>\n",
              "  </div>\n",
              "  "
            ]
          },
          "metadata": {},
          "execution_count": 113
        }
      ]
    },
    {
      "cell_type": "code",
      "source": [],
      "metadata": {
        "id": "DLAwAa-QAEdO"
      },
      "execution_count": null,
      "outputs": []
    }
  ]
}